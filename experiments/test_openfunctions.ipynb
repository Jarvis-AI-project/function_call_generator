{
 "cells": [
  {
   "cell_type": "code",
   "execution_count": 1,
   "metadata": {},
   "outputs": [],
   "source": [
    "import json\n",
    "import torch\n",
    "import openai\n",
    "from transformers import AutoTokenizer, AutoModelForCausalLM, pipeline, TextStreamer\n",
    "from pprint import pprint"
   ]
  },
  {
   "cell_type": "markdown",
   "metadata": {},
   "source": [
    "## Hosted Gorilla Model"
   ]
  },
  {
   "cell_type": "code",
   "execution_count": 2,
   "metadata": {},
   "outputs": [],
   "source": [
    "# def get_gorilla_response(prompt, functions=[], model=\"gorilla-openfunctions-v0\"):\n",
    "#     openai.api_key = \"EMPTY\"\n",
    "#     openai.api_base = \"http://luigi.millennium.berkeley.edu:8000/v1\"\n",
    "#     # openai.api_base = \"https://limcheekin-gorilla-openfunctions-v1-gguf.hf.space/v1\"\n",
    "#     try:\n",
    "#         completion = openai.ChatCompletion.create(\n",
    "#             model=model,\n",
    "#             temperature=0.0,\n",
    "#             messages=[{\"role\": \"user\", \"content\": prompt}],\n",
    "#             functions=functions,\n",
    "#         )\n",
    "#         return completion.choices[0].message.content\n",
    "#     except Exception as e:\n",
    "#         print(e, model, prompt)"
   ]
  },
  {
   "cell_type": "markdown",
   "metadata": {},
   "source": [
    "## Local Model"
   ]
  },
  {
   "cell_type": "code",
   "execution_count": 2,
   "metadata": {},
   "outputs": [],
   "source": [
    "# Device setup\n",
    "device: str = \"cuda:1\"\n",
    "torch_dtype = torch.float16"
   ]
  },
  {
   "cell_type": "code",
   "execution_count": 3,
   "metadata": {},
   "outputs": [],
   "source": [
    "_MODEL_PATH = \"gorilla-openfunctions-v0\""
   ]
  },
  {
   "cell_type": "code",
   "execution_count": 4,
   "metadata": {},
   "outputs": [
    {
     "data": {
      "application/vnd.jupyter.widget-view+json": {
       "model_id": "2e74c9aa85f342a08a0ddf2b2d901e2b",
       "version_major": 2,
       "version_minor": 0
      },
      "text/plain": [
       "Loading checkpoint shards:   0%|          | 0/2 [00:00<?, ?it/s]"
      ]
     },
     "metadata": {},
     "output_type": "display_data"
    }
   ],
   "source": [
    "tokenizer = AutoTokenizer.from_pretrained(_MODEL_PATH)\n",
    "model = AutoModelForCausalLM.from_pretrained(\n",
    "    _MODEL_PATH,\n",
    "    device_map=device,\n",
    "    torch_dtype=torch_dtype,\n",
    "    low_cpu_mem_usage=True\n",
    ")"
   ]
  },
  {
   "cell_type": "code",
   "execution_count": 5,
   "metadata": {},
   "outputs": [
    {
     "data": {
      "text/plain": [
       "{'': device(type='cuda', index=1)}"
      ]
     },
     "execution_count": 5,
     "metadata": {},
     "output_type": "execute_result"
    }
   ],
   "source": [
    "model.hf_device_map"
   ]
  },
  {
   "cell_type": "code",
   "execution_count": 7,
   "metadata": {},
   "outputs": [],
   "source": [
    "# streamer = TextStreamer(tokenizer=tokenizer, skip_prompt=True)"
   ]
  },
  {
   "cell_type": "code",
   "execution_count": 8,
   "metadata": {},
   "outputs": [],
   "source": [
    "# pipe = pipeline(\n",
    "#     \"text-generation\",\n",
    "#     model=model,\n",
    "#     tokenizer=tokenizer,\n",
    "#     max_new_tokens=128,\n",
    "#     batch_size=16,\n",
    "#     torch_dtype=torch_dtype,\n",
    "#     streamer=streamer,\n",
    "# )"
   ]
  },
  {
   "cell_type": "code",
   "execution_count": 6,
   "metadata": {},
   "outputs": [],
   "source": [
    "def get_prompt(user_query: str, functions: list = []) -> str:\n",
    "    return f\"USER: <<question>> {user_query} <<function>> {json.dumps(functions)}\\nASSISTANT: \""
   ]
  },
  {
   "cell_type": "code",
   "execution_count": 7,
   "metadata": {},
   "outputs": [],
   "source": [
    "query = 'call an cab from bhajanpura to nodia sector 62 in twenty two minutes using ola.'\n",
    "# query = 'call an ola cab from bhajanpura to nodia sector 62 in twenty two minutes and then from uber for the same route in 10 minutes.'\n",
    "functions = {\n",
    "        \"name\": \"Call Cab Function\",\n",
    "        \"api_name\": \"cab.ride\",\n",
    "        \"description\": \"Find suitable ride for customers given the location, type of ride, and the amount of time the customer is willing to wait as parameters.\",\n",
    "        \"parameters\":  {\n",
    "            \"start_loc\": {\n",
    "                \"type\": \"string\",\n",
    "                # \"default\": \"current_location\",\n",
    "                \"description\": \"location of the starting place of the uber ride\"\n",
    "            },\n",
    "            \"end_loc\": {\n",
    "                \"type\": \"string\",\n",
    "                \"description\": \"location of the ending place of the uber ride\"\n",
    "            },\n",
    "            \"type\": {\n",
    "                \"type\": \"string\",\n",
    "                \"enum\": [\"normal\", \"plus\", \"premium\"],\n",
    "                # \"default\": \"normal\",\n",
    "                \"description\": \"types of uber ride user is ordering\"\n",
    "            },\n",
    "            \"time\": {\n",
    "                \"type\": \"integer\",\n",
    "                # \"default\": \"now\",\n",
    "                \"description\": \"the amount of time in minutes the customer is willing to wait\"\n",
    "            },\n",
    "            \"platform\": {\n",
    "                \"type\": \"string\",\n",
    "                # \"default\": \"uber\",\n",
    "                \"enum\": [\"uber\", \"ola\"],\n",
    "                \"description\": \"the platform the user is ordering the ride from\"\n",
    "            }\n",
    "        },\n",
    "        \"required\": [\"start_loc\", \"end_loc\", \"type\", \"time\", \"platform\"]\n",
    "    }"
   ]
  },
  {
   "cell_type": "code",
   "execution_count": 11,
   "metadata": {},
   "outputs": [],
   "source": [
    "# model.generation_config.temperature = 0.2\n",
    "# model.generation_config.temperature = 0.01"
   ]
  },
  {
   "cell_type": "code",
   "execution_count": 8,
   "metadata": {},
   "outputs": [
    {
     "data": {
      "text/plain": [
       "'USER: <<question>> call an cab from bhajanpura to nodia sector 62 in twenty two minutes using ola. <<function>> {\"name\": \"Call Cab Function\", \"api_name\": \"cab.ride\", \"description\": \"Find suitable ride for customers given the location, type of ride, and the amount of time the customer is willing to wait as parameters.\", \"parameters\": {\"start_loc\": {\"type\": \"string\", \"description\": \"location of the starting place of the uber ride\"}, \"end_loc\": {\"type\": \"string\", \"description\": \"location of the ending place of the uber ride\"}, \"type\": {\"type\": \"string\", \"enum\": [\"normal\", \"plus\", \"premium\"], \"description\": \"types of uber ride user is ordering\"}, \"time\": {\"type\": \"integer\", \"description\": \"the amount of time in minutes the customer is willing to wait\"}, \"platform\": {\"type\": \"string\", \"enum\": [\"uber\", \"ola\"], \"description\": \"the platform the user is ordering the ride from\"}}, \"required\": [\"start_loc\", \"end_loc\", \"type\", \"time\", \"platform\"]}\\nASSISTANT: '"
      ]
     },
     "execution_count": 8,
     "metadata": {},
     "output_type": "execute_result"
    }
   ],
   "source": [
    "prompt = get_prompt(query, functions)\n",
    "prompt"
   ]
  },
  {
   "cell_type": "code",
   "execution_count": 9,
   "metadata": {},
   "outputs": [
    {
     "name": "stdout",
     "output_type": "stream",
     "text": [
      "Moving prompt to cuda:1\n"
     ]
    }
   ],
   "source": [
    "# pipe(prompt, max_new_tokens=512, return_full_text=False, do_sample=True)\n",
    "# prompt_ids = tokenizer.encode(prompt, return_tensors=\"pt\")\n",
    "tokenized_prompt = tokenizer([prompt], return_tensors=\"pt\")\n",
    "if tokenized_prompt['input_ids'].device != model.device:\n",
    "    print(f\"Moving prompt to {model.device}\")\n",
    "    prompt_ids = tokenized_prompt['input_ids'].to(model.device)\n",
    "    attention_mask = tokenized_prompt['attention_mask'].to(model.device)"
   ]
  },
  {
   "cell_type": "code",
   "execution_count": 129,
   "metadata": {},
   "outputs": [
    {
     "data": {
      "text/plain": [
       "(tensor([[    1,  3148,  1001, 29901,  3532, 12470,  6778,  1246,   385,  7776,\n",
       "            515,   289, 29882,  1175,   273, 29886,  2002,   304, 18778,   423,\n",
       "          17535, 29871, 29953, 29906,   297, 10081,  1023,  6233,   773,   288,\n",
       "            433, 29889,  3532,  2220,  6778,  8853,   978,  1115,   376,  5594,\n",
       "          11680,  6680,   613,   376,  2754, 29918,   978,  1115,   376, 29883,\n",
       "            370, 29889,  2426,   613,   376,  8216,  1115,   376, 12542, 13907,\n",
       "          22203,   363, 20330,  2183,   278,  4423, 29892,  1134,   310, 22203,\n",
       "          29892,   322,   278,  5253,   310,   931,   278, 11962,   338, 17762,\n",
       "            304,  4480,   408,  4128, 19602,   376, 16744,  1115,  8853,  2962,\n",
       "          29918,  2029,  1115,  8853,  1853,  1115,   376,  1807,   613,   376,\n",
       "           8216,  1115,   376,  5479,   310,   278,  6257,  2058,   310,   278,\n",
       "            318,   495, 22203, 10758,   376,   355, 29918,  2029,  1115,  8853,\n",
       "           1853,  1115,   376,  1807,   613,   376,  8216,  1115,   376,  5479,\n",
       "            310,   278, 17140,  2058,   310,   278,   318,   495, 22203, 10758,\n",
       "            376,  1853,  1115,  8853,  1853,  1115,   376,  1807,   613,   376,\n",
       "          18605,  1115,  6796,  8945,   613,   376, 11242,   613,   376,  1457,\n",
       "          29885,  1974, 12436,   376,  8216,  1115,   376,  8768,   310,   318,\n",
       "            495, 22203,  1404,   338, 20520, 10758,   376,  2230,  1115,  8853,\n",
       "           1853,  1115,   376, 16031,   613,   376,  8216,  1115,   376,  1552,\n",
       "           5253,   310,   931,   297,  6233,   278, 11962,   338, 17762,   304,\n",
       "           4480, 10758,   376, 12120,  1115,  8853,  1853,  1115,   376,  1807,\n",
       "            613,   376, 18605,  1115,  6796, 11234,   613,   376,  2963, 12436,\n",
       "            376,  8216,  1115,   376,  1552,  7481,   278,  1404,   338, 20520,\n",
       "            278, 22203,   515, 29908, 11656,   376, 12403,  1115,  6796,  2962,\n",
       "          29918,  2029,   613,   376,   355, 29918,  2029,   613,   376,  1853,\n",
       "            613,   376,  2230,   613,   376, 12120,  3108, 29913,    13, 22933,\n",
       "           9047, 13566, 29901, 29871]], device='cuda:1'),\n",
       " tensor([[1, 1, 1, 1, 1, 1, 1, 1, 1, 1, 1, 1, 1, 1, 1, 1, 1, 1, 1, 1, 1, 1, 1, 1,\n",
       "          1, 1, 1, 1, 1, 1, 1, 1, 1, 1, 1, 1, 1, 1, 1, 1, 1, 1, 1, 1, 1, 1, 1, 1,\n",
       "          1, 1, 1, 1, 1, 1, 1, 1, 1, 1, 1, 1, 1, 1, 1, 1, 1, 1, 1, 1, 1, 1, 1, 1,\n",
       "          1, 1, 1, 1, 1, 1, 1, 1, 1, 1, 1, 1, 1, 1, 1, 1, 1, 1, 1, 1, 1, 1, 1, 1,\n",
       "          1, 1, 1, 1, 1, 1, 1, 1, 1, 1, 1, 1, 1, 1, 1, 1, 1, 1, 1, 1, 1, 1, 1, 1,\n",
       "          1, 1, 1, 1, 1, 1, 1, 1, 1, 1, 1, 1, 1, 1, 1, 1, 1, 1, 1, 1, 1, 1, 1, 1,\n",
       "          1, 1, 1, 1, 1, 1, 1, 1, 1, 1, 1, 1, 1, 1, 1, 1, 1, 1, 1, 1, 1, 1, 1, 1,\n",
       "          1, 1, 1, 1, 1, 1, 1, 1, 1, 1, 1, 1, 1, 1, 1, 1, 1, 1, 1, 1, 1, 1, 1, 1,\n",
       "          1, 1, 1, 1, 1, 1, 1, 1, 1, 1, 1, 1, 1, 1, 1, 1, 1, 1, 1, 1, 1, 1, 1, 1,\n",
       "          1, 1, 1, 1, 1, 1, 1, 1, 1, 1, 1, 1, 1, 1, 1, 1, 1, 1, 1, 1, 1, 1, 1, 1,\n",
       "          1, 1, 1, 1, 1, 1, 1, 1, 1, 1, 1, 1, 1, 1, 1, 1, 1, 1, 1, 1, 1, 1, 1, 1]],\n",
       "        device='cuda:1'))"
      ]
     },
     "execution_count": 129,
     "metadata": {},
     "output_type": "execute_result"
    }
   ],
   "source": [
    "prompt_ids, attention_mask"
   ]
  },
  {
   "cell_type": "code",
   "execution_count": 18,
   "metadata": {},
   "outputs": [],
   "source": [
    "output = model.generate(\n",
    "    prompt_ids,\n",
    "    # max_length=512,\n",
    "    do_sample=False,\n",
    "    # do_sample=True,\n",
    "    # top_p=0.9,\n",
    "    # top_k=50,\n",
    "    # temperature=0.6,\n",
    "    # num_return_sequences=1,\n",
    "    pad_token_id=tokenizer.eos_token_id,\n",
    "    eos_token_id=tokenizer.eos_token_id,\n",
    "    # no_repeat_ngram_size=3,\n",
    "    # repetition_penalty=2.0,\n",
    "    # length_penalty=1.0,\n",
    "    num_beams=1,\n",
    "    # early_stopping=True,\n",
    "    # use_cache=True,\n",
    "    # bad_words_ids=[[tokenizer.eos_token_id]]\n",
    ")"
   ]
  },
  {
   "cell_type": "code",
   "execution_count": 19,
   "metadata": {},
   "outputs": [
    {
     "data": {
      "text/plain": [
       "'call_cab(start_loc=\"bhajanpura\", end_loc=\"nodia sector 62\", type=\"normal\", time=22, platform=\"ola\")'"
      ]
     },
     "execution_count": 19,
     "metadata": {},
     "output_type": "execute_result"
    }
   ],
   "source": [
    "output_str = tokenizer.decode(output[0], skip_special_tokens=True)\n",
    "output_str.split(\"ASSISTANT:\")[1].strip()"
   ]
  },
  {
   "cell_type": "code",
   "execution_count": 100,
   "metadata": {},
   "outputs": [],
   "source": [
    "# query2 = 'List all the devices in the house and their battery percentage.'\n",
    "# query2 = 'What is the battery of Redmi 8A and samsung galaxy s10?'\n",
    "query2 = 'Calculate the population growth rate over a certain time period.'\n",
    "functions2 = [{\"name\": \"Population Growth Rate Calculator\", \"api_call\": \"population.calculate_growth_rate\", \"description\": \"Calculate the population growth rate based on initial and final population sizes and the time period.\", \"parameters\": {\"type\": \"object\", \"properties\": {\"initial_population\": {\"type\": \"integer\", \"description\": \"Initial population size.\"}, \"final_population\": {\"type\": \"integer\", \"description\": \"Final population size.\"}, \"time_period\": {\"type\": \"string\", \"description\": \"Time period of population growth.\"}}, \"required\": [\"initial_population\", \"final_population\", \"time_period\"]}}]\n",
    "# query2 = 'List all the devices in the house.'\n",
    "# functions2 = [\n",
    "#     {\n",
    "#         \"name\": \"Check Battery\",\n",
    "#         \"api_name\": \"devices.battery\",\n",
    "#         \"description\": \"Check the battery of a particular device\",\n",
    "#         \"parameters\":  {\n",
    "#             \"device\": {\n",
    "#                 \"description\": \"list of devices to check the battery of\",\n",
    "#                 \"type\": \"list\",\n",
    "#                 \"items\": {\n",
    "#                     \"type\": \"string\",\n",
    "#                 }\n",
    "#                 # \"default\": \"all\"\n",
    "#             },\n",
    "#         },\n",
    "#         # \"returns\": \"battery percentage of the device\"\n",
    "#         \"required\": [\"device\"]\n",
    "#     },\n",
    "#     # {\n",
    "#     #     \"name\": \"Get Devices\",\n",
    "#     #     \"api_name\": \"devices.get\",\n",
    "#     #     \"description\": \"Get the list of devices\",\n",
    "#     #     \"parameters\":  [],\n",
    "#     #     # \"returns\": \"list of devices\"\n",
    "#     # }\n",
    "# ]"
   ]
  },
  {
   "cell_type": "code",
   "execution_count": 101,
   "metadata": {},
   "outputs": [
    {
     "data": {
      "text/plain": [
       "'USER: <<question>> Calculate the population growth rate over a certain time period. <<function>> [{\"name\": \"Population Growth Rate Calculator\", \"api_call\": \"population.calculate_growth_rate\", \"description\": \"Calculate the population growth rate based on initial and final population sizes and the time period.\", \"parameters\": {\"type\": \"object\", \"properties\": {\"initial_population\": {\"type\": \"integer\", \"description\": \"Initial population size.\"}, \"final_population\": {\"type\": \"integer\", \"description\": \"Final population size.\"}, \"time_period\": {\"type\": \"string\", \"description\": \"Time period of population growth.\"}}, \"required\": [\"initial_population\", \"final_population\", \"time_period\"]}}]\\nASSISTANT: '"
      ]
     },
     "execution_count": 101,
     "metadata": {},
     "output_type": "execute_result"
    }
   ],
   "source": [
    "prompt2 = get_prompt(query2, functions2)\n",
    "prompt2"
   ]
  },
  {
   "cell_type": "code",
   "execution_count": 102,
   "metadata": {},
   "outputs": [
    {
     "name": "stdout",
     "output_type": "stream",
     "text": [
      "Moving prompt to cuda:1\n"
     ]
    }
   ],
   "source": [
    "tokenized_prompt2 = tokenizer([prompt2], return_tensors=\"pt\")\n",
    "if tokenized_prompt2['input_ids'].device != model.device:\n",
    "    print(f\"Moving prompt to {model.device}\")\n",
    "    prompt_ids2 = tokenized_prompt2['input_ids'].to(model.device)\n",
    "    attention_mask2 = tokenized_prompt2['attention_mask'].to(model.device)"
   ]
  },
  {
   "cell_type": "code",
   "execution_count": 103,
   "metadata": {},
   "outputs": [
    {
     "data": {
      "text/plain": [
       "(tensor([[    1,  3148,  1001, 29901,  3532, 12470,  6778, 20535,   403,   278,\n",
       "           4665, 14321,  6554,   975,   263,  3058,   931,  3785, 29889,  3532,\n",
       "           2220,  6778,   518,  6377,   978,  1115,   376, 12310,  2785,   402,\n",
       "            798,   386,   390,   403, 20535,  1061,   613,   376,  2754, 29918,\n",
       "           4804,  1115,   376,  7323,  2785, 29889, 15807,   403, 29918, 29887,\n",
       "            798,   386, 29918, 10492,   613,   376,  8216,  1115,   376, 27065,\n",
       "            403,   278,  4665, 14321,  6554,  2729,   373,  2847,   322,  2186,\n",
       "           4665, 15786,   322,   278,   931,  3785, 19602,   376, 16744,  1115,\n",
       "           8853,  1853,  1115,   376,  3318,   613,   376, 11330,  1115,  8853,\n",
       "          11228, 29918,  7323,  2785,  1115,  8853,  1853,  1115,   376, 16031,\n",
       "            613,   376,  8216,  1115,   376, 15514,  4665,  2159,  1213,  1118,\n",
       "            376,  8394, 29918,  7323,  2785,  1115,  8853,  1853,  1115,   376,\n",
       "          16031,   613,   376,  8216,  1115,   376, 15790,  4665,  2159,  1213,\n",
       "           1118,   376,  2230, 29918, 19145,  1115,  8853,  1853,  1115,   376,\n",
       "           1807,   613,   376,  8216,  1115,   376,  2481,  3785,   310,  4665,\n",
       "          14321,  1213, 11656,   376, 12403,  1115,  6796, 11228, 29918,  7323,\n",
       "           2785,   613,   376,  8394, 29918,  7323,  2785,   613,   376,  2230,\n",
       "          29918, 19145,  3108,   930, 29962,    13, 22933,  9047, 13566, 29901,\n",
       "          29871]], device='cuda:1'),\n",
       " tensor([[1, 1, 1, 1, 1, 1, 1, 1, 1, 1, 1, 1, 1, 1, 1, 1, 1, 1, 1, 1, 1, 1, 1, 1,\n",
       "          1, 1, 1, 1, 1, 1, 1, 1, 1, 1, 1, 1, 1, 1, 1, 1, 1, 1, 1, 1, 1, 1, 1, 1,\n",
       "          1, 1, 1, 1, 1, 1, 1, 1, 1, 1, 1, 1, 1, 1, 1, 1, 1, 1, 1, 1, 1, 1, 1, 1,\n",
       "          1, 1, 1, 1, 1, 1, 1, 1, 1, 1, 1, 1, 1, 1, 1, 1, 1, 1, 1, 1, 1, 1, 1, 1,\n",
       "          1, 1, 1, 1, 1, 1, 1, 1, 1, 1, 1, 1, 1, 1, 1, 1, 1, 1, 1, 1, 1, 1, 1, 1,\n",
       "          1, 1, 1, 1, 1, 1, 1, 1, 1, 1, 1, 1, 1, 1, 1, 1, 1, 1, 1, 1, 1, 1, 1, 1,\n",
       "          1, 1, 1, 1, 1, 1, 1, 1, 1, 1, 1, 1, 1, 1, 1, 1, 1, 1, 1, 1, 1, 1, 1, 1,\n",
       "          1, 1, 1, 1, 1, 1, 1, 1, 1, 1, 1, 1, 1]], device='cuda:1'))"
      ]
     },
     "execution_count": 103,
     "metadata": {},
     "output_type": "execute_result"
    }
   ],
   "source": [
    "prompt_ids2, attention_mask2"
   ]
  },
  {
   "cell_type": "code",
   "execution_count": 104,
   "metadata": {},
   "outputs": [],
   "source": [
    "output = model.generate(\n",
    "    prompt_ids2,\n",
    "    # max_length=512,\n",
    "    do_sample=False,\n",
    "    # do_sample=True,\n",
    "    # temperature=0.5,\n",
    "    # top_p=0.9,\n",
    "    # top_k=0,\n",
    "    # num_return_sequences=1,\n",
    "    pad_token_id=tokenizer.eos_token_id,\n",
    "    eos_token_id=tokenizer.eos_token_id,\n",
    "    # no_repeat_ngram_size=3,\n",
    "    # repetition_penalty=2.0,\n",
    "    # length_penalty=1.0,\n",
    "    num_beams=1,\n",
    "    # early_stopping=True,\n",
    "    # use_cache=True,\n",
    "    # bad_words_ids=[[tokenizer.eos_token_id]]\n",
    ")"
   ]
  },
  {
   "cell_type": "code",
   "execution_count": 105,
   "metadata": {},
   "outputs": [
    {
     "data": {
      "text/plain": [
       "'population.calculate_growth_rate(initial_population=1000000, final_population=1500000, time_period=\"2020-2030\")'"
      ]
     },
     "execution_count": 105,
     "metadata": {},
     "output_type": "execute_result"
    }
   ],
   "source": [
    "output_str = tokenizer.decode(output[0], skip_special_tokens=True)\n",
    "output_str.split(\"ASSISTANT:\")[1].strip()"
   ]
  }
 ],
 "metadata": {
  "kernelspec": {
   "display_name": "Python 3",
   "language": "python",
   "name": "python3"
  },
  "language_info": {
   "codemirror_mode": {
    "name": "ipython",
    "version": 3
   },
   "file_extension": ".py",
   "mimetype": "text/x-python",
   "name": "python",
   "nbconvert_exporter": "python",
   "pygments_lexer": "ipython3",
   "version": "3.12.0"
  }
 },
 "nbformat": 4,
 "nbformat_minor": 2
}
