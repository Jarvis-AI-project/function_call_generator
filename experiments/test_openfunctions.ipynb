{
 "cells": [
  {
   "cell_type": "code",
   "execution_count": null,
   "metadata": {},
   "outputs": [],
   "source": [
    "import json\n",
    "import torch\n",
    "import openai\n",
    "from transformers import AutoTokenizer, AutoModelForCausalLM, pipeline, TextStreamer\n",
    "from pprint import pprint"
   ]
  },
  {
   "cell_type": "markdown",
   "metadata": {},
   "source": [
    "## Hosted Gorilla Model"
   ]
  },
  {
   "cell_type": "code",
   "execution_count": null,
   "metadata": {},
   "outputs": [],
   "source": [
    "# def get_gorilla_response(prompt, functions=[], model=\"gorilla-openfunctions-v0\"):\n",
    "#     openai.api_key = \"EMPTY\"\n",
    "#     openai.api_base = \"http://luigi.millennium.berkeley.edu:8000/v1\"\n",
    "#     # openai.api_base = \"https://limcheekin-gorilla-openfunctions-v1-gguf.hf.space/v1\"\n",
    "#     try:\n",
    "#         completion = openai.ChatCompletion.create(\n",
    "#             model=model,\n",
    "#             temperature=0.0,\n",
    "#             messages=[{\"role\": \"user\", \"content\": prompt}],\n",
    "#             functions=functions,\n",
    "#         )\n",
    "#         return completion.choices[0].message.content\n",
    "#     except Exception as e:\n",
    "#         print(e, model, prompt)"
   ]
  },
  {
   "cell_type": "markdown",
   "metadata": {},
   "source": [
    "## Local Model"
   ]
  },
  {
   "cell_type": "code",
   "execution_count": null,
   "metadata": {},
   "outputs": [],
   "source": [
    "# Device setup\n",
    "device: str = \"cuda:1\"\n",
    "torch_dtype = torch.float16"
   ]
  },
  {
   "cell_type": "code",
   "execution_count": null,
   "metadata": {},
   "outputs": [],
   "source": [
    "_MODEL_PATH = \"/mnt/nvme/MODELS/LLM/gorilla-openfunctions-v0/\""
   ]
  },
  {
   "cell_type": "code",
   "execution_count": null,
   "metadata": {},
   "outputs": [],
   "source": [
    "tokenizer = AutoTokenizer.from_pretrained(_MODEL_PATH)\n",
    "model = AutoModelForCausalLM.from_pretrained(\n",
    "    _MODEL_PATH,\n",
    "    device_map=device,\n",
    "    # torch_dtype=torch_dtype,\n",
    "    low_cpu_mem_usage=True\n",
    ")"
   ]
  },
  {
   "cell_type": "code",
   "execution_count": null,
   "metadata": {},
   "outputs": [],
   "source": [
    "model.hf_device_map"
   ]
  },
  {
   "cell_type": "code",
   "execution_count": null,
   "metadata": {},
   "outputs": [],
   "source": [
    "# streamer = TextStreamer(tokenizer=tokenizer, skip_prompt=True)"
   ]
  },
  {
   "cell_type": "code",
   "execution_count": null,
   "metadata": {},
   "outputs": [],
   "source": [
    "# pipe = pipeline(\n",
    "#     \"text-generation\",\n",
    "#     model=model,\n",
    "#     tokenizer=tokenizer,\n",
    "#     max_new_tokens=128,\n",
    "#     batch_size=16,\n",
    "#     torch_dtype=torch_dtype,\n",
    "#     streamer=streamer,\n",
    "# )"
   ]
  },
  {
   "cell_type": "code",
   "execution_count": null,
   "metadata": {},
   "outputs": [],
   "source": [
    "def get_prompt(user_query: str, functions: list = []) -> str:\n",
    "    return f\"USER: <<question>> {user_query} <<function>> {json.dumps(functions)}\\nASSISTANT: \""
   ]
  },
  {
   "cell_type": "code",
   "execution_count": null,
   "metadata": {},
   "outputs": [],
   "source": [
    "query = 'call an cab to nodia sector 62 in twenty two minutes using ola.'\n",
    "# query = 'call an ola cab from bhajanpura to nodia sector 62 in twenty two minutes and then from uber for the same route in 10 minutes.'\n",
    "functions = {\n",
    "        \"name\": \"Call Cab Function\",\n",
    "        \"api_name\": \"cab.ride\",\n",
    "        \"description\": \"Find suitable ride for customers given the location, type of ride, and the amount of time the customer is willing to wait as parameters.\",\n",
    "        \"parameters\":  {\n",
    "            \"start_loc\": {\n",
    "                \"type\": \"string\",\n",
    "                # \"default\": \"current_location\",\n",
    "                \"description\": \"location of the starting place of the uber ride\"\n",
    "            },\n",
    "            \"end_loc\": {\n",
    "                \"type\": \"string\",\n",
    "                \"description\": \"location of the ending place of the uber ride\"\n",
    "            },\n",
    "            \"type\": {\n",
    "                \"type\": \"string\",\n",
    "                \"enum\": [\"normal\", \"plus\", \"premium\"],\n",
    "                # \"default\": \"normal\",\n",
    "                \"description\": \"types of uber ride user is ordering\"\n",
    "            },\n",
    "            \"time\": {\n",
    "                \"type\": \"integer\",\n",
    "                # \"default\": \"now\",\n",
    "                \"description\": \"the amount of time in minutes the customer is willing to wait\"\n",
    "            },\n",
    "            \"platform\": {\n",
    "                \"type\": \"string\",\n",
    "                # \"default\": \"uber\",\n",
    "                \"enum\": [\"uber\", \"ola\"],\n",
    "                \"description\": \"the platform the user is ordering the ride from\"\n",
    "            }\n",
    "        },\n",
    "        \"required\": [\"start_loc\", \"end_loc\", \"type\", \"time\", \"platform\"]\n",
    "    }"
   ]
  },
  {
   "cell_type": "code",
   "execution_count": null,
   "metadata": {},
   "outputs": [],
   "source": [
    "# model.generation_config.temperature = 0.2\n",
    "# model.generation_config.temperature = 0.01"
   ]
  },
  {
   "cell_type": "code",
   "execution_count": null,
   "metadata": {},
   "outputs": [],
   "source": [
    "prompt = get_prompt(query, functions)\n",
    "prompt"
   ]
  },
  {
   "cell_type": "code",
   "execution_count": null,
   "metadata": {},
   "outputs": [],
   "source": [
    "# pipe(prompt, max_new_tokens=512, return_full_text=False, do_sample=True)\n",
    "# prompt_ids = tokenizer.encode(prompt, return_tensors=\"pt\")\n",
    "tokenized_prompt = tokenizer([prompt], return_tensors=\"pt\")\n",
    "if tokenized_prompt['input_ids'].device != model.device:\n",
    "    print(f\"Moving prompt to {model.device}\")\n",
    "    prompt_ids = tokenized_prompt['input_ids'].to(model.device)\n",
    "    attention_mask = tokenized_prompt['attention_mask'].to(model.device)"
   ]
  },
  {
   "cell_type": "code",
   "execution_count": null,
   "metadata": {},
   "outputs": [],
   "source": [
    "prompt_ids, attention_mask"
   ]
  },
  {
   "cell_type": "code",
   "execution_count": null,
   "metadata": {},
   "outputs": [],
   "source": [
    "output = model.generate(\n",
    "    prompt_ids,\n",
    "    # max_length=512,\n",
    "    do_sample=False,\n",
    "    # do_sample=True,\n",
    "    # top_p=0.9,\n",
    "    # top_k=50,\n",
    "    # temperature=0.6,\n",
    "    # num_return_sequences=1,\n",
    "    pad_token_id=tokenizer.eos_token_id,\n",
    "    eos_token_id=tokenizer.eos_token_id,\n",
    "    # no_repeat_ngram_size=3,\n",
    "    # repetition_penalty=2.0,\n",
    "    # length_penalty=1.0,\n",
    "    num_beams=1,\n",
    "    # early_stopping=True,\n",
    "    # use_cache=True,\n",
    "    # bad_words_ids=[[tokenizer.eos_token_id]]\n",
    ")"
   ]
  },
  {
   "cell_type": "code",
   "execution_count": null,
   "metadata": {},
   "outputs": [],
   "source": [
    "output_str = tokenizer.decode(output[0], skip_special_tokens=True)\n",
    "model_response = output_str.split(\"ASSISTANT:\")[1].strip()\n",
    "model_response"
   ]
  },
  {
   "cell_type": "code",
   "execution_count": null,
   "metadata": {},
   "outputs": [],
   "source": [
    "len(tokenizer.encode(model_response, return_tensors=\"pt\")[0])"
   ]
  },
  {
   "cell_type": "code",
   "execution_count": null,
   "metadata": {},
   "outputs": [],
   "source": [
    "import tikt"
   ]
  },
  {
   "cell_type": "code",
   "execution_count": null,
   "metadata": {},
   "outputs": [],
   "source": [
    "tokens = tokenizer.encode(\"[INSTRUCTION]\", return_tensors=\"pt\")[0]\n",
    "print(f\"Len of tokens: {len(tokens)}\")\n",
    "print(f\"Decoded tokens: {[tokenizer.decode(token) for token in tokens]}\")"
   ]
  },
  {
   "cell_type": "code",
   "execution_count": null,
   "metadata": {},
   "outputs": [],
   "source": [
    "tokens"
   ]
  },
  {
   "cell_type": "code",
   "execution_count": null,
   "metadata": {},
   "outputs": [],
   "source": [
    "# query2 = 'List all the devices in the house and their battery percentage.'\n",
    "# query2 = 'What is the battery of Redmi 8A and samsung galaxy s10?'\n",
    "query2 = 'Calculate the population growth rate over a certain time period.'\n",
    "functions2 = [{\"name\": \"Population Growth Rate Calculator\", \"api_call\": \"population.calculate_growth_rate\", \"description\": \"Calculate the population growth rate based on initial and final population sizes and the time period.\", \"parameters\": {\"type\": \"object\", \"properties\": {\"initial_population\": {\"type\": \"integer\", \"description\": \"Initial population size.\"}, \"final_population\": {\"type\": \"integer\", \"description\": \"Final population size.\"}, \"time_period\": {\"type\": \"string\", \"description\": \"Time period of population growth.\"}}, \"required\": [\"initial_population\", \"final_population\", \"time_period\"]}}]\n",
    "# query2 = 'List all the devices in the house.'\n",
    "# functions2 = [\n",
    "#     {\n",
    "#         \"name\": \"Check Battery\",\n",
    "#         \"api_name\": \"devices.battery\",\n",
    "#         \"description\": \"Check the battery of a particular device\",\n",
    "#         \"parameters\":  {\n",
    "#             \"device\": {\n",
    "#                 \"description\": \"list of devices to check the battery of\",\n",
    "#                 \"type\": \"list\",\n",
    "#                 \"items\": {\n",
    "#                     \"type\": \"string\",\n",
    "#                 }\n",
    "#                 # \"default\": \"all\"\n",
    "#             },\n",
    "#         },\n",
    "#         # \"returns\": \"battery percentage of the device\"\n",
    "#         \"required\": [\"device\"]\n",
    "#     },\n",
    "#     # {\n",
    "#     #     \"name\": \"Get Devices\",\n",
    "#     #     \"api_name\": \"devices.get\",\n",
    "#     #     \"description\": \"Get the list of devices\",\n",
    "#     #     \"parameters\":  [],\n",
    "#     #     # \"returns\": \"list of devices\"\n",
    "#     # }\n",
    "# ]"
   ]
  },
  {
   "cell_type": "code",
   "execution_count": null,
   "metadata": {},
   "outputs": [],
   "source": [
    "prompt2 = get_prompt(query2, functions2)\n",
    "prompt2"
   ]
  },
  {
   "cell_type": "code",
   "execution_count": null,
   "metadata": {},
   "outputs": [],
   "source": [
    "tokenized_prompt2 = tokenizer([prompt2], return_tensors=\"pt\")\n",
    "if tokenized_prompt2['input_ids'].device != model.device:\n",
    "    print(f\"Moving prompt to {model.device}\")\n",
    "    prompt_ids2 = tokenized_prompt2['input_ids'].to(model.device)\n",
    "    attention_mask2 = tokenized_prompt2['attention_mask'].to(model.device)"
   ]
  },
  {
   "cell_type": "code",
   "execution_count": null,
   "metadata": {},
   "outputs": [],
   "source": [
    "prompt_ids2, attention_mask2"
   ]
  },
  {
   "cell_type": "code",
   "execution_count": null,
   "metadata": {},
   "outputs": [],
   "source": [
    "output = model.generate(\n",
    "    prompt_ids2,\n",
    "    # max_length=512,\n",
    "    do_sample=False,\n",
    "    # do_sample=True,\n",
    "    # temperature=0.5,\n",
    "    # top_p=0.9,\n",
    "    # top_k=0,\n",
    "    # num_return_sequences=1,\n",
    "    pad_token_id=tokenizer.eos_token_id,\n",
    "    eos_token_id=tokenizer.eos_token_id,\n",
    "    # no_repeat_ngram_size=3,\n",
    "    # repetition_penalty=2.0,\n",
    "    # length_penalty=1.0,\n",
    "    num_beams=1,\n",
    "    # early_stopping=True,\n",
    "    # use_cache=True,\n",
    "    # bad_words_ids=[[tokenizer.eos_token_id]]\n",
    ")"
   ]
  },
  {
   "cell_type": "code",
   "execution_count": null,
   "metadata": {},
   "outputs": [],
   "source": [
    "output_str = tokenizer.decode(output[0], skip_special_tokens=True)\n",
    "output_str.split(\"ASSISTANT:\")[1].strip()"
   ]
  }
 ],
 "metadata": {
  "kernelspec": {
   "display_name": "Python 3",
   "language": "python",
   "name": "python3"
  },
  "language_info": {
   "codemirror_mode": {
    "name": "ipython",
    "version": 3
   },
   "file_extension": ".py",
   "mimetype": "text/x-python",
   "name": "python",
   "nbconvert_exporter": "python",
   "pygments_lexer": "ipython3",
   "version": "3.12.0"
  }
 },
 "nbformat": 4,
 "nbformat_minor": 2
}
