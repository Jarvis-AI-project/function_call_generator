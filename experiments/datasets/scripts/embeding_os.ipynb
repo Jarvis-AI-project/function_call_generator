{
 "cells": [
  {
   "cell_type": "code",
   "execution_count": null,
   "metadata": {},
   "outputs": [],
   "source": [
    "import torch\n",
    "import torch.nn.functional as F\n",
    "\n",
    "from torch import Tensor\n",
    "from transformers import AutoTokenizer, AutoModel"
   ]
  },
  {
   "cell_type": "code",
   "execution_count": null,
   "metadata": {},
   "outputs": [],
   "source": [
    "# _MODEL_PATH = \"/mnt/nvme/MODELS/EMBEDINGS/e5-mistral-7b-instruct/\"\n",
    "_MODEL_PATH = \"/mnt/nvme/MODELS/EMBEDINGS/UAE-Large-V1/\""
   ]
  },
  {
   "cell_type": "code",
   "execution_count": null,
   "metadata": {},
   "outputs": [],
   "source": [
    "tokenizer = AutoTokenizer.from_pretrained(_MODEL_PATH, device=\"cuda:1\")\n",
    "model = AutoModel.from_pretrained(\n",
    "    _MODEL_PATH,\n",
    "    device_map=\"cuda:1\",\n",
    "    torch_dtype=torch.float16,\n",
    "    low_cpu_mem_usage=True\n",
    ")"
   ]
  },
  {
   "cell_type": "code",
   "execution_count": null,
   "metadata": {},
   "outputs": [],
   "source": [
    "# def last_token_pool(\n",
    "#     last_hidden_states: Tensor,\n",
    "#     attention_mask: Tensor\n",
    "#     ) -> Tensor:\n",
    "    \n",
    "#     left_padding = (attention_mask[:, -1].sum() == attention_mask.shape[0])\n",
    "#     if left_padding:\n",
    "#         return last_hidden_states[:, -1]\n",
    "#     else:\n",
    "#         sequence_lengths = attention_mask.sum(dim=1) - 1\n",
    "#         batch_size = last_hidden_states.shape[0]\n",
    "#         return last_hidden_states[torch.arange(batch_size, device=last_hidden_states.device), sequence_lengths]\n"
   ]
  },
  {
   "cell_type": "code",
   "execution_count": null,
   "metadata": {},
   "outputs": [],
   "source": [
    "# def get_detailed_instruct(task_description: str, query: str) -> str:\n",
    "#     return f'Instruct: {task_description}\\nQuery: {query}'\n"
   ]
  },
  {
   "cell_type": "code",
   "execution_count": null,
   "metadata": {},
   "outputs": [],
   "source": [
    "# Each query must come with a one-sentence instruction that describes the task\n",
    "# task = 'Given a web search query, retrieve relevant passages that answer the query'\n",
    "# input_texts = [\n",
    "#     get_detailed_instruct(task, 'how much protein should a female eat'),\n",
    "    \n",
    "#     get_detailed_instruct(task, 'summit define'),\n",
    "    \n",
    "#     \"As a general guideline, the CDC's average requirement of protein for women ages 19 to 70 is 46 grams per day. But, as you can see from this chart, you'll need to increase that if you're expecting or training for a marathon. Check out the chart below to see how much protein you should be eating each day.\",\n",
    "    \n",
    "#     \"Definition of summit for English Language Learners. : 1  the highest point of a mountain : the top of a mountain. : 2  the highest level. : 3  a meeting or series of meetings between the leaders of two or more governments.\"\n",
    "# ]"
   ]
  },
  {
   "cell_type": "code",
   "execution_count": null,
   "metadata": {},
   "outputs": [],
   "source": [
    "# max_length = 4096\n",
    "# Tokenize the input texts\n",
    "# batch_dict = tokenizer(input_texts, max_length=max_length - 1, return_attention_mask=False, padding=False, truncation=True)\n",
    "# batch_dict = tokenizer(input_texts, return_attention_mask=False, padding=False, truncation=True)\n",
    "# batch_dict"
   ]
  },
  {
   "cell_type": "code",
   "execution_count": null,
   "metadata": {},
   "outputs": [],
   "source": [
    "# append eos_token_id to every input_ids\n",
    "# batch_dict['input_ids'] = [input_ids + [tokenizer.eos_token_id] for input_ids in batch_dict['input_ids']]\n",
    "# batch_dict = tokenizer.pad(batch_dict, padding=True, return_attention_mask=True, return_tensors='pt')\n",
    "# batch_dict = {k: v.to(model.device) for k, v in batch_dict.items()}"
   ]
  },
  {
   "cell_type": "code",
   "execution_count": null,
   "metadata": {},
   "outputs": [],
   "source": [
    "# outputs = model(**batch_dict)"
   ]
  },
  {
   "cell_type": "code",
   "execution_count": null,
   "metadata": {},
   "outputs": [],
   "source": [
    "# embeddings = last_token_pool(outputs.last_hidden_state, batch_dict['attention_mask'])\n",
    "# embeddings.shape"
   ]
  },
  {
   "cell_type": "code",
   "execution_count": null,
   "metadata": {},
   "outputs": [],
   "source": [
    "# normalize embeddings\n",
    "# embeddings = F.normalize(embeddings, p=2, dim=1)\n",
    "# scores = (embeddings[:2] @ embeddings[2:].T) * 100\n",
    "# print(scores.tolist())"
   ]
  },
  {
   "cell_type": "code",
   "execution_count": null,
   "metadata": {},
   "outputs": [],
   "source": [
    "from sklearn.metrics.pairwise import cosine_similarity\n",
    "from scipy.spatial.distance import cosine"
   ]
  },
  {
   "cell_type": "code",
   "execution_count": null,
   "metadata": {},
   "outputs": [],
   "source": [
    "text1=\"\"\"\n",
    "USER: Hello Jarvis, how much would it cost to install new carpeting on my house's stairs? The steps are three feet broad and ten feet long. I would want to utilise a $5 per square foot carpet. \n",
    "ASSISTANT: Alright, Mr. I'll figure that out for you. <calculator> 3 * 10 30 <calculator> 30 * 5 150 </calculator>There would be a $150 overall cost.</s> Do you need my assistance with anything else right now?\n",
    "\"\"\"\n",
    "\n",
    "text2=\"\"\"\n",
    "USER: Hello Jarvis, how much would it cost to install new carpeting on my house's stairs? The steps are three feet broad and ten feet long. I would want to utilize a $5 per square foot carpet. \n",
    "ASSISTANT: Alright, Mr. I'll figure that out for you. <calculator> 3 * 10 30 <calculator> 30 * 5 150 </calculator>There would be a $150 overall cost.</s> Do you need my assistance with anything else right now?\n",
    "\"\"\"\n",
    "# text2 = input_texts[-1]"
   ]
  },
  {
   "cell_type": "code",
   "execution_count": null,
   "metadata": {},
   "outputs": [],
   "source": [
    "text1 = tokenizer(text1, return_tensors=\"pt\", padding=True, truncation=True)\n",
    "text1 = {k: v.to(model.device) for k, v in text1.items()}\n",
    "text2 = tokenizer(text2, return_tensors=\"pt\", padding=True, truncation=True)\n",
    "text2 = {k: v.to(model.device) for k, v in text2.items()}"
   ]
  },
  {
   "cell_type": "code",
   "execution_count": null,
   "metadata": {},
   "outputs": [],
   "source": [
    "text1['input_ids'].shape"
   ]
  },
  {
   "cell_type": "code",
   "execution_count": null,
   "metadata": {},
   "outputs": [],
   "source": [
    "# text1_embeddings = last_token_pool(model(**text1).last_hidden_state, text1['attention_mask'])\n",
    "# text2_embeddings = last_token_pool(model(**text2).last_hidden_state, text2['attention_mask'])\n",
    "\n",
    "text1_embeddings = model(**text1).last_hidden_state[:, -1]\n",
    "text2_embeddings = model(**text2).last_hidden_state[:, -1]"
   ]
  },
  {
   "cell_type": "code",
   "execution_count": null,
   "metadata": {},
   "outputs": [],
   "source": [
    "text1_embeddings.shape, text2_embeddings.shape"
   ]
  },
  {
   "cell_type": "code",
   "execution_count": null,
   "metadata": {},
   "outputs": [],
   "source": [
    "cosine_similarity(text1_embeddings.cpu().detach().numpy(), text2_embeddings.cpu().detach().numpy())"
   ]
  },
  {
   "cell_type": "code",
   "execution_count": null,
   "metadata": {},
   "outputs": [],
   "source": [
    "cosine(text1_embeddings.squeeze().cpu().detach().numpy(), text2_embeddings.squeeze().cpu().detach().numpy())"
   ]
  },
  {
   "cell_type": "code",
   "execution_count": null,
   "metadata": {},
   "outputs": [],
   "source": [
    "text1_embeddings.cpu().detach().numpy()"
   ]
  },
  {
   "cell_type": "code",
   "execution_count": null,
   "metadata": {},
   "outputs": [],
   "source": [
    "text2_embeddings.cpu().detach().numpy()"
   ]
  }
 ],
 "metadata": {
  "kernelspec": {
   "display_name": "function_call_generator",
   "language": "python",
   "name": "python3"
  },
  "language_info": {
   "codemirror_mode": {
    "name": "ipython",
    "version": 3
   },
   "file_extension": ".py",
   "mimetype": "text/x-python",
   "name": "python",
   "nbconvert_exporter": "python",
   "pygments_lexer": "ipython3",
   "version": "3.12.0"
  }
 },
 "nbformat": 4,
 "nbformat_minor": 2
}
