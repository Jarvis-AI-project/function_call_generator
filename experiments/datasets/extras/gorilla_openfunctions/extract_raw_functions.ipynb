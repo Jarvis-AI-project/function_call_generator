{
 "cells": [
  {
   "cell_type": "code",
   "execution_count": null,
   "metadata": {},
   "outputs": [],
   "source": [
    "import pymongo\n",
    "import os\n",
    "import json\n",
    "from dotenv import load_dotenv\n",
    "\n",
    "load_dotenv()"
   ]
  },
  {
   "cell_type": "code",
   "execution_count": null,
   "metadata": {},
   "outputs": [],
   "source": [
    "_URI = f\"mongodb://{os.environ['MONGODB_USERNAME']}:{os.environ['MONGODB_PASSWORD']}@{os.environ['MONGODB_HOST']}:{os.environ['MONGODB_PORT']}/{os.environ['MONGODB_DATABASE']}\""
   ]
  },
  {
   "cell_type": "code",
   "execution_count": null,
   "metadata": {},
   "outputs": [],
   "source": [
    "client = pymongo.MongoClient(_URI)\n",
    "client.list_database_names()"
   ]
  },
  {
   "cell_type": "code",
   "execution_count": null,
   "metadata": {},
   "outputs": [],
   "source": [
    "db = client[\"function_calling\"]\n",
    "gorilla_openfunctions = db[\"gorilla_openfunctions\"]\n",
    "raw_functions = db[\"raw_functions\"]"
   ]
  },
  {
   "cell_type": "code",
   "execution_count": null,
   "metadata": {},
   "outputs": [],
   "source": [
    "raw_functions.create_index(\n",
    "    {\n",
    "        'origin_dataset': 1,\n",
    "        'split': 1,\n",
    "        'line_no': 1,\n",
    "        'function_number': 1,\n",
    "    },\n",
    "    unique=True\n",
    ")\n",
    "raw_functions.create_index(\n",
    "    {\n",
    "        \"function\": 1\n",
    "    },\n",
    "    unique=True,\n",
    ")"
   ]
  },
  {
   "cell_type": "code",
   "execution_count": null,
   "metadata": {},
   "outputs": [],
   "source": [
    "total_functions_in_gorilla = gorilla_openfunctions.count_documents({})\n",
    "print(f\"Total raw functions in gorilla: {total_functions_in_gorilla}\")"
   ]
  },
  {
   "cell_type": "code",
   "execution_count": null,
   "metadata": {},
   "outputs": [],
   "source": [
    "# Get all raw functions in gorilla one by one\n",
    "ORIGIN_DATASET = \"gorilla_openfunctions\"\n",
    "duplicate_count = 0\n",
    "for raw_function in gorilla_openfunctions.find():\n",
    "    # Get the function details\n",
    "    split = raw_function[\"split\"]\n",
    "    line_no = raw_function[\"line\"]\n",
    "    \n",
    "    # Get the function data\n",
    "    if split == \"test\":\n",
    "        function_data = [raw_function[\"data\"][\"function\"]]\n",
    "        \n",
    "    elif split == \"train\":\n",
    "        function_data = raw_function[\"data\"][\"Functions\"]\n",
    "        \n",
    "    else:\n",
    "        raise Exception(\"Invalid data split\", split)\n",
    "    \n",
    "    \n",
    "    # Dump functions to `raw_functions` collection\n",
    "    for num, function in enumerate(function_data):\n",
    "        try: \n",
    "            raw_functions.insert_one({\n",
    "                \"origin_dataset\": ORIGIN_DATASET,\n",
    "                \"split\": split,\n",
    "                \"line_no\": line_no,\n",
    "                \"function_number\": num,\n",
    "                \"function\": function\n",
    "            })\n",
    "        except pymongo.errors.DuplicateKeyError:\n",
    "            # print(f\"Duplicate function found: {raw_function}\")\n",
    "            duplicate_count += 1\n",
    "            continue\n",
    "\n",
    "print(f\"Total duplicate functions found: {duplicate_count}\")"
   ]
  },
  {
   "cell_type": "code",
   "execution_count": null,
   "metadata": {},
   "outputs": [],
   "source": [
    "total_raw_functions = raw_functions.count_documents({})\n",
    "print(f\"Total raw functions: {total_raw_functions}\")"
   ]
  }
 ],
 "metadata": {
  "kernelspec": {
   "display_name": "function_call_generator",
   "language": "python",
   "name": "python3"
  },
  "language_info": {
   "codemirror_mode": {
    "name": "ipython",
    "version": 3
   },
   "file_extension": ".py",
   "mimetype": "text/x-python",
   "name": "python",
   "nbconvert_exporter": "python",
   "pygments_lexer": "ipython3",
   "version": "3.12.0"
  }
 },
 "nbformat": 4,
 "nbformat_minor": 2
}
