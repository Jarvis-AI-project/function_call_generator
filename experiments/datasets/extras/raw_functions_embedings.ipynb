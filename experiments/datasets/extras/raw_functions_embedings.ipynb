{
 "cells": [
  {
   "cell_type": "code",
   "execution_count": null,
   "metadata": {},
   "outputs": [],
   "source": [
    "import pymongo\n",
    "import os\n",
    "import dotenv\n",
    "import json\n",
    "from openai import OpenAI\n",
    "\n",
    "dotenv.load_dotenv()\n",
    "dotenv.load_dotenv(\"../gorilla_openfunctions/.env\")\n",
    "openai_client = OpenAI(api_key = os.getenv(\"OPENAI_KEY_EMBEDINGS\"))"
   ]
  },
  {
   "cell_type": "code",
   "execution_count": null,
   "metadata": {},
   "outputs": [],
   "source": [
    "os.getenv(\"OPENAI_KEY_EMBEDINGS\")"
   ]
  },
  {
   "cell_type": "code",
   "execution_count": null,
   "metadata": {},
   "outputs": [],
   "source": [
    "_URI = f\"mongodb://{os.environ['MONGODB_USERNAME']}:{os.environ['MONGODB_PASSWORD']}@{os.environ['MONGODB_HOST']}:{os.environ['MONGODB_PORT']}/{os.environ['MONGODB_DATABASE']}\"\n",
    "mogodb_client = pymongo.MongoClient(_URI)\n",
    "raw_functions = mogodb_client[\"function_calling\"][\"raw_functions\"]"
   ]
  },
  {
   "cell_type": "code",
   "execution_count": null,
   "metadata": {},
   "outputs": [],
   "source": [
    "for function_desc in raw_functions.find():\n",
    "    if \"openai_embedding\" in function_desc:\n",
    "        continue\n",
    "    func = function_desc[\"function\"]\n",
    "    func = json.dumps(func).replace(\"\\n\", \" \")\n",
    "    embedding = openai_client.embeddings.create(input=func, model=\"text-embedding-ada-002\").data[0].embedding\n",
    "    raw_functions.update_one({\"_id\": function_desc[\"_id\"]}, {\"$set\": {\"openai_embedding\": embedding}})"
   ]
  }
 ],
 "metadata": {
  "kernelspec": {
   "display_name": "function_call_generator",
   "language": "python",
   "name": "python3"
  },
  "language_info": {
   "codemirror_mode": {
    "name": "ipython",
    "version": 3
   },
   "file_extension": ".py",
   "mimetype": "text/x-python",
   "name": "python",
   "nbconvert_exporter": "python",
   "pygments_lexer": "ipython3",
   "version": "3.12.0"
  }
 },
 "nbformat": 4,
 "nbformat_minor": 2
}
