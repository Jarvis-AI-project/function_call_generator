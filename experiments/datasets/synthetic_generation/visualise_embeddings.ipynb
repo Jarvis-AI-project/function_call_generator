{
 "cells": [
  {
   "cell_type": "code",
   "execution_count": 1,
   "metadata": {},
   "outputs": [
    {
     "data": {
      "text/plain": [
       "True"
      ]
     },
     "execution_count": 1,
     "metadata": {},
     "output_type": "execute_result"
    }
   ],
   "source": [
    "import pymongo\n",
    "import os\n",
    "import json\n",
    "from dotenv import load_dotenv\n",
    "import torch\n",
    "load_dotenv(\"../gorilla_openfunctions/.env\")"
   ]
  },
  {
   "cell_type": "code",
   "execution_count": null,
   "metadata": {},
   "outputs": [],
   "source": [
    "_URI = f\"mongodb://{os.environ['MONGODB_USERNAME']}:{os.environ['MONGODB_PASSWORD']}@{os.environ['MONGODB_HOST']}:{os.environ['MONGODB_PORT']}/{os.environ['MONGODB_DATABASE']}\"\n",
    "mogodb_client = pymongo.MongoClient(_URI)\n",
    "raw_functions = mogodb_client[\"function_calling\"][\"raw_functions\"]"
   ]
  },
  {
   "cell_type": "code",
   "execution_count": null,
   "metadata": {},
   "outputs": [],
   "source": [
    "function_description = []\n",
    "function_embeddings = []\n",
    "for data in raw_functions.find():\n",
    "    function_description.append(json.dumps(data[\"function\"]))\n",
    "    function_embeddings.append(data[\"openai_embedding\"])"
   ]
  },
  {
   "cell_type": "code",
   "execution_count": null,
   "metadata": {},
   "outputs": [],
   "source": [
    "import pandas as pd\n",
    "df = pd.DataFrame({\"function_name\": function_description,\n",
    "                  \"function_embeddings\": function_embeddings})\n",
    "df.head()"
   ]
  },
  {
   "cell_type": "code",
   "execution_count": null,
   "metadata": {},
   "outputs": [],
   "source": [
    "from torch.utils.tensorboard import SummaryWriter\n",
    "\n",
    "writer = SummaryWriter(\"./logs/embeddings\")\n",
    "\n",
    "embeddings = df[\"function_embeddings\"]\n",
    "embeddings = torch.tensor(embeddings, requires_grad=False)\n",
    "writer.add_embedding(\n",
    "    embeddings, metadata=df[\"function_name\"].tolist(), tag='embeddings')"
   ]
  }
 ],
 "metadata": {
  "kernelspec": {
   "display_name": "pytorch",
   "language": "python",
   "name": "python3"
  },
  "language_info": {
   "codemirror_mode": {
    "name": "ipython",
    "version": 3
   },
   "file_extension": ".py",
   "mimetype": "text/x-python",
   "name": "python",
   "nbconvert_exporter": "python",
   "pygments_lexer": "ipython3",
   "version": "3.12.0"
  }
 },
 "nbformat": 4,
 "nbformat_minor": 2
}
