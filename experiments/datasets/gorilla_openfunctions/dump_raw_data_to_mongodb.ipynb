{
 "cells": [
  {
   "cell_type": "code",
   "execution_count": null,
   "metadata": {},
   "outputs": [],
   "source": [
    "import pymongo\n",
    "import os\n",
    "import json\n",
    "from dotenv import load_dotenv\n",
    "\n",
    "load_dotenv()"
   ]
  },
  {
   "cell_type": "code",
   "execution_count": null,
   "metadata": {},
   "outputs": [],
   "source": [
    "_URI = f\"mongodb://{os.environ['MONGODB_USERNAME']}:{os.environ['MONGODB_PASSWORD']}@{os.environ['MONGODB_HOST']}:{os.environ['MONGODB_PORT']}/{os.environ['MONGODB_DATABASE']}\""
   ]
  },
  {
   "cell_type": "code",
   "execution_count": null,
   "metadata": {},
   "outputs": [],
   "source": [
    "client = pymongo.MongoClient(_URI)\n",
    "client.list_database_names()"
   ]
  },
  {
   "cell_type": "code",
   "execution_count": null,
   "metadata": {},
   "outputs": [],
   "source": [
    "db = client[\"function_calling\"]\n",
    "collection = db[\"gorilla_openfunctions\"]"
   ]
  },
  {
   "cell_type": "code",
   "execution_count": null,
   "metadata": {},
   "outputs": [],
   "source": [
    "import ast\n",
    "def recursively_dump_to_json(input_json_str):\n",
    "    # Parse the outer JSON string\n",
    "    input_json_str = str(input_json_str)\n",
    "    input_json_str = input_json_str.strip()\n",
    "    \n",
    "    try:\n",
    "        outer_data = json.loads(input_json_str)\n",
    "    except json.JSONDecodeError as e:\n",
    "        print(f\"Error parsing JSON: {e}\")\n",
    "        print(f\"Input JSON: {input_json_str}\")\n",
    "        return {\n",
    "            \"error\": str(e),\n",
    "            \"data\": input_json_str\n",
    "        }\n",
    "\n",
    "    # Function to recursively convert inner JSON strings\n",
    "    def convert_inner_json(obj):\n",
    "        if isinstance(obj, str):\n",
    "            obj = obj.strip()\n",
    "            if (obj.startswith(\"{\") and obj.endswith(\"}\")) or (obj.startswith(\"[\") and obj.endswith(\"]\")):\n",
    "                try:\n",
    "                    return ast.literal_eval(obj)\n",
    "                except Exception as e:\n",
    "                    print(f\"Error parsing: {e}\")\n",
    "                    print(f\"Input string: {obj}\")\n",
    "                    raise e\n",
    "            \n",
    "            return obj\n",
    "            \n",
    "        elif isinstance(obj, list):\n",
    "            return [convert_inner_json(item) for item in obj]\n",
    "        \n",
    "        elif isinstance(obj, dict):\n",
    "            return {key: convert_inner_json(value) for key, value in obj.items()}\n",
    "\n",
    "    # Recursively convert inner JSON strings\n",
    "    converted_data = convert_inner_json(outer_data)\n",
    "    \n",
    "    return dict(converted_data)"
   ]
  },
  {
   "cell_type": "code",
   "execution_count": null,
   "metadata": {},
   "outputs": [],
   "source": [
    "with open(os.environ[\"TEST_FILE_PATH\"]) as f:\n",
    "    for num, data in enumerate(f.readlines()):\n",
    "        \n",
    "        if data.strip() == \"\":\n",
    "            continue\n",
    "\n",
    "        data = recursively_dump_to_json(data)\n",
    "        \n",
    "        try:\n",
    "            collection.insert_one(\n",
    "                {\n",
    "                    \"split\": \"test\",\n",
    "                    \"line\": num+1,\n",
    "                    \"data\": data\n",
    "                }\n",
    "            )\n",
    "        except pymongo.errors.DuplicateKeyError:\n",
    "            print(f\"Duplicate key error at line {num+1}\")\n",
    "            # Get the duplcate element\n",
    "            duplicate_element = collection.find_one({\"split\": \"test\", \"line\": num+1})\n",
    "            if duplicate_element[\"data\"] != data:\n",
    "                print(\"Duplicate element is different\")\n",
    "                print(f\"Old element: {duplicate_element}\")\n",
    "                print(f\"New element: {data}\")\n",
    "                print(\"Deleting old element and inserting new element\")\n",
    "                collection.delete_one({\"split\": \"test\", \"line\": num+1})\n",
    "                collection.insert_one(\n",
    "                    {\n",
    "                        \"split\": \"test\",\n",
    "                        \"line\": num+1,\n",
    "                        \"data\": data\n",
    "                    }\n",
    "                )\n",
    "            else:\n",
    "                print(\"Duplicate element is same, skipping\")"
   ]
  },
  {
   "cell_type": "code",
   "execution_count": null,
   "metadata": {},
   "outputs": [],
   "source": [
    "with open(os.environ[\"TRAIN_FILE_PATH\"]) as f:\n",
    "    for num, data in enumerate(f.readlines()):\n",
    "        \n",
    "        if data.strip() == \"\":\n",
    "            continue\n",
    "\n",
    "        data = recursively_dump_to_json(data)\n",
    "        \n",
    "        try:\n",
    "            collection.insert_one(\n",
    "                {\n",
    "                    \"split\": \"train\",\n",
    "                    \"line\": num+1,\n",
    "                    \"data\": data\n",
    "                }\n",
    "            )\n",
    "        except pymongo.errors.DuplicateKeyError:\n",
    "            print(f\"Duplicate key error at line {num+1}\")\n",
    "            # Get the duplcate element\n",
    "            duplicate_element = collection.find_one({\"split\": \"test\", \"line\": num+1})\n",
    "            if duplicate_element[\"data\"] != data:\n",
    "                print(\"Duplicate element is different\")\n",
    "                print(f\"Old element: {duplicate_element}\")\n",
    "                print(f\"New element: {data}\")\n",
    "                print(\"Deleting old element and inserting new element\")\n",
    "                collection.delete_one({\"split\": \"test\", \"line\": num+1})\n",
    "                collection.insert_one(\n",
    "                    {\n",
    "                        \"split\": \"train\",\n",
    "                        \"line\": num+1,\n",
    "                        \"data\": data\n",
    "                    }\n",
    "                )\n",
    "            else:\n",
    "                print(\"Duplicate element is same, skipping\")"
   ]
  },
  {
   "cell_type": "code",
   "execution_count": null,
   "metadata": {},
   "outputs": [],
   "source": [
    "with open(os.environ[\"TRAIN_FILE_PATH\"]) as f:\n",
    "    data = f.readlines()"
   ]
  },
  {
   "cell_type": "code",
   "execution_count": null,
   "metadata": {},
   "outputs": [],
   "source": [
    "data[5467].strip()"
   ]
  },
  {
   "cell_type": "code",
   "execution_count": null,
   "metadata": {},
   "outputs": [],
   "source": [
    "json.dumps(recursively_dump_to_json(data[5467]))"
   ]
  }
 ],
 "metadata": {
  "kernelspec": {
   "display_name": "function_call_generator",
   "language": "python",
   "name": "python3"
  },
  "language_info": {
   "codemirror_mode": {
    "name": "ipython",
    "version": 3
   },
   "file_extension": ".py",
   "mimetype": "text/x-python",
   "name": "python",
   "nbconvert_exporter": "python",
   "pygments_lexer": "ipython3",
   "version": "3.11.5"
  }
 },
 "nbformat": 4,
 "nbformat_minor": 2
}
