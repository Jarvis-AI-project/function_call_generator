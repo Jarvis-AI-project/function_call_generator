{
 "cells": [
  {
   "cell_type": "code",
   "execution_count": 2,
   "metadata": {},
   "outputs": [],
   "source": [
    "import json\n",
    "import jsonschema"
   ]
  },
  {
   "cell_type": "code",
   "execution_count": 1,
   "metadata": {},
   "outputs": [],
   "source": [
    "JSON_SCHEMA = {\n",
    "    \"$schema\": \"http://json-schema.org/draft-07/schema#\",\n",
    "    \"type\": \"object\",\n",
    "    \"properties\": {\n",
    "        \"user_query\": {\n",
    "            \"type\": \"string\",\n",
    "            \"description\": \"The user's query.\"\n",
    "        },\n",
    "        \"functions\": {\n",
    "            \"type\": \"array\",\n",
    "            \"items\": {\n",
    "                \"type\": \"object\",\n",
    "                \"properties\": {\n",
    "                    \"name\": {\n",
    "                        \"type\": \"string\",\n",
    "                        \"description\": \"The name of the function.\"\n",
    "                    },\n",
    "                    \"api_call\": {\n",
    "                        \"type\": \"string\",\n",
    "                        \"description\": \"The API call for the function.\"\n",
    "                    },\n",
    "                    \"description\": {\n",
    "                        \"type\": \"string\",\n",
    "                        \"description\": \"A description of the function.\"\n",
    "                    },\n",
    "                    \"parameters\": {\n",
    "                        \"type\": \"object\",\n",
    "                        \"properties\": {\n",
    "                            \"type\": {\n",
    "                                \"type\": \"string\",\n",
    "                                \"description\": \"The type of parameters.\"\n",
    "                            },\n",
    "                            \"properties\": {\n",
    "                                \"type\": \"object\",\n",
    "                                \"description\": \"The properties of the parameters.\",\n",
    "                                \"properties\": {\n",
    "                                    \"value\": {\n",
    "                                        \"type\": \"number\",\n",
    "                                        \"description\": \"The value to be converted.\"\n",
    "                                    },\n",
    "                                    \"from_unit\": {\n",
    "                                        \"type\": \"string\",\n",
    "                                        \"description\": \"The unit to convert from.\",\n",
    "                                        \"enum\": [\"miles\", \"kilometers\"]\n",
    "                                    },\n",
    "                                    \"to_unit\": {\n",
    "                                        \"type\": \"string\",\n",
    "                                        \"description\": \"The unit to convert to.\",\n",
    "                                        \"enum\": [\"miles\", \"kilometers\"]\n",
    "                                    }\n",
    "                                },\n",
    "                                \"required\": [\"value\", \"from_unit\", \"to_unit\"]\n",
    "                            }\n",
    "                        }\n",
    "                    }\n",
    "                },\n",
    "                \"required\": [\"name\", \"api_call\", \"description\", \"parameters\"]\n",
    "            }\n",
    "        },\n",
    "        \"model_answer\": {\n",
    "            \"type\": \"string\",\n",
    "            \"description\": \"The model's answer.\"\n",
    "        }\n",
    "    },\n",
    "    \"required\": [\"user_query\", \"functions\", \"model_answer\"]\n",
    "}"
   ]
  },
  {
   "cell_type": "code",
   "execution_count": null,
   "metadata": {},
   "outputs": [],
   "source": [
    "_ = {\n",
    "    \"Instruction\": \"I want to get transactions for the Bitcoin chain.\\n\", \n",
    "    \"Functions\": [\n",
    "        \"{'name': 'RapidAPI', 'api_name': 'requests.get', 'description': 'Handles transacions of FEL tokens.', 'parameters': [{'name': 'chainid', 'description': '', 'type': 'string'}]}\\n\", \"{'name': 'RapidAPI', 'api_name': 'requests.get', 'description': 'Check VIN by US license plate and state. \\\\nVIN decoder from [VIN decoder](https://rapidapi.com/dominonet-lTpEE6zONeS/api/vin-decoder19).\\\\n[View documents](https://rapidapi.com/dominonet-lTpEE6zONeS/api/vin-decoder19/details)\\\\n', 'parameters': [{'name': 'state_code', 'description': '**Run a License Plate Search By State**\\\\nAL,AK,AZ,AR,CA,CO,CT,DE,DC,FL,GA,HI,ID,IL,IN,IA,KS,KY,LA,ME,MD,MA,MI,MN,MS,MO,MT,NE,NV,NH,NJ,NM,NY,NC,ND,OH,OK,OR,PA,RI,SC,SD,TN,TX,UT,VT,VA,WA,WV,WI,WY', 'type': 'STRING'}, {'name': 'license_plate', 'description': '', 'type': 'STRING'}]}\\n\", \"{'name': 'AI Platform', 'api_name': 'gcloud.ai_platform.operations().wait', 'description': 'Wait for an AI Platform operation to complete', 'parameters': [{'name': 'operation', 'description': 'Name of the operation.'}, {'name': 'region', 'description': 'Google Cloud region of the regional endpoint to use for this command. If unspecified, the command uses the global endpoint of the AI Platform Training and Prediction API.'}]}\\n\", \"{'name': 'RapidAPI', 'api_name': 'requests.get', 'description': 'Transfermarkt / Transfermarket - The football website for transfers, market values, rumours, stats, scores, results, news and fixtures.  https://www.transfermarkt.com/ **Support**:  [tipsters@rapi.one](mailto:tipsters@rapi.one) / t.me/api_tipsters **Other sports api:** https://rapi.one', 'parameters': [{'name': 'locale', 'description': '', 'type': 'STRING'}, {'name': 'query', 'description': 'Query', 'type': 'STRING'}, {'name': 'page_number', 'description': 'Page number', 'type': 'NUMBER'}]}\\n\",\n",
    "                                                                                        \"{'name': 'RapidAPI', 'api_name': 'requests.get', 'description': \\\"Proxy Rotator is the world's first enterprise grade proxy ip rotation service. HTTPS proxies on a combination of over 26 million Residential, Private and Public Exclusive IP's. It's Easy to Use, Reliable and used by 1000's of Businesses daily.\\\\r\\\\n\\\\r\\\\nThe Proxy Detection API can detect if an IP address is, or has ever been, related to a proxy. With a database of over 26,000,000 worldwide proxies our probability of detecting a proxy based upon the ip address is unmatched. This API is useful for many scenario's such as reducing fraud on e-commerece sites, protecting your site from automated hacking attempts (XSS,SQLi,brute force), Prevent promotional offer abuse (multiple signups), limiting access on proxy IPs (prevent password / email changes) and many more uses!\\\", 'parameters': [{'name': 'ip', 'description': 'The IP address to be tested.', 'type': 'STRING'}]}\\n\", \"{'name': 'alpha', 'api_name': 'gcloud.alpha.bq.tables.insert(table=\\\"/projects/myproject/datasets/my_dataset/tables/my_table\\\", data=\\\"data_file.json\\\"', 'description': 'Insert records into an existing table', 'parameters': [{'name': 'table', 'description': 'ID of the table or fully qualified identifier for the table.'}, {'name': 'dataset', 'description': 'The id of the BigQuery dataset.'}, {'name': 'data', 'description': 'The data to be inserted.'}]}\"], \"Output\": \"requests.get(\\\"https://felina-api2.p.rapidapi.com/v1/api/transactions/Bitcoin\\\", headers={\\\"X-RapidAPI-Key\\\": \\\"SIGN-UP-FOR-KEY\\\", \\\"X-RapidAPI-Host\\\": \\\"felina-api2.p.rapidapi.com\\\"}, params={})\"}"
   ]
  }
 ],
 "metadata": {
  "kernelspec": {
   "display_name": "Python 3",
   "language": "python",
   "name": "python3"
  },
  "language_info": {
   "codemirror_mode": {
    "name": "ipython",
    "version": 3
   },
   "file_extension": ".py",
   "mimetype": "text/x-python",
   "name": "python",
   "nbconvert_exporter": "python",
   "pygments_lexer": "ipython3",
   "version": "3.10.12"
  }
 },
 "nbformat": 4,
 "nbformat_minor": 2
}
