{
 "cells": [
  {
   "cell_type": "code",
   "execution_count": 1,
   "metadata": {},
   "outputs": [
    {
     "data": {
      "text/plain": [
       "True"
      ]
     },
     "execution_count": 1,
     "metadata": {},
     "output_type": "execute_result"
    }
   ],
   "source": [
    "from pymongo import MongoClient\n",
    "import pandas as pd\n",
    "import json\n",
    "import os\n",
    "\n",
    "import dotenv\n",
    "dotenv.load_dotenv()"
   ]
  },
  {
   "cell_type": "code",
   "execution_count": 6,
   "metadata": {},
   "outputs": [],
   "source": [
    "test_dataset = pd.read_json('gorilla_openfunctions_test.json')\n",
    "train_dataset = pd.read_json('gorilla_openfunctions_train.jsonl', lines=True)"
   ]
  },
  {
   "cell_type": "code",
   "execution_count": 2,
   "metadata": {},
   "outputs": [],
   "source": [
    "_URI = f'mongodb://{os.getenv(\"MONGODB_USERNAME\")}:{os.getenv(\"MONGODB_PASSWORD\")}@{os.getenv(\"MONGODB_HOST\")}:{os.getenv(\"MONGODB_PORT\")}/'\n",
    "client = MongoClient(_URI)"
   ]
  },
  {
   "cell_type": "code",
   "execution_count": 3,
   "metadata": {},
   "outputs": [
    {
     "data": {
      "text/plain": [
       "['admin', 'config', 'local']"
      ]
     },
     "execution_count": 3,
     "metadata": {},
     "output_type": "execute_result"
    }
   ],
   "source": [
    "# See all databases\n",
    "client.list_database_names()"
   ]
  },
  {
   "cell_type": "code",
   "execution_count": 4,
   "metadata": {},
   "outputs": [],
   "source": [
    "db = client['openfunctions']\n",
    "test = db['test']\n",
    "train = db['train']"
   ]
  },
  {
   "cell_type": "code",
   "execution_count": null,
   "metadata": {},
   "outputs": [],
   "source": [
    "{\n",
    "        \"question\": \"Translate 'Hello, world!' into Spanish.\",\n",
    "        \"functions\": {\n",
    "          \"name\": \"Translation Service\",\n",
    "          \"api_call\": \"translation.translate\",\n",
    "          \"description\": \"Translate text from one language to another.\",\n",
    "          \"parameters\": {\n",
    "            \"type\": \"object\",\n",
    "            \"properties\": {\n",
    "              \"text\": {\n",
    "                \"type\": \"string\",\n",
    "                \"description\": \"The text to be translated.\"\n",
    "              },\n",
    "              \"target_language\": {\n",
    "                \"type\": \"string\",\n",
    "                \"description\": \"The target language for translation.\"\n",
    "              }\n",
    "            },\n",
    "            \"required\": [\"text\", \"target_language\"]\n",
    "          }\n",
    "        },\n",
    "        \"model_answer\": \"translation.translate(text=\\\"Hello, world!\\\", target_language=\\\"Spanish\\\")\"\n",
    "      }\n",
    "\n",
    "write a json schmme for this"
   ]
  }
 ],
 "metadata": {
  "kernelspec": {
   "display_name": "Python 3",
   "language": "python",
   "name": "python3"
  },
  "language_info": {
   "codemirror_mode": {
    "name": "ipython",
    "version": 3
   },
   "file_extension": ".py",
   "mimetype": "text/x-python",
   "name": "python",
   "nbconvert_exporter": "python",
   "pygments_lexer": "ipython3",
   "version": "3.10.12"
  }
 },
 "nbformat": 4,
 "nbformat_minor": 2
}
