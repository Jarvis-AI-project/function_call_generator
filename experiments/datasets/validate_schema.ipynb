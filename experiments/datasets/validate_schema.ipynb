{
 "cells": [
  {
   "cell_type": "code",
   "execution_count": 1,
   "metadata": {},
   "outputs": [],
   "source": [
    "import json\n",
    "import os\n",
    "from jsonschema import validate, ValidationError"
   ]
  },
  {
   "cell_type": "code",
   "execution_count": 95,
   "metadata": {},
   "outputs": [],
   "source": [
    "with open('schema.json') as f:\n",
    "    schema = json.load(f)\n",
    "\n",
    "example = {\n",
    "    \"user_query\": \"Find a coffee shop near me with free Wi-Fi in San Francisco.\",\n",
    "    \"functions\": [\n",
    "        {\n",
    "            \"name\": \"Lyrics Finder\",\n",
    "            \"api_call\": \"lyrics.find\",\n",
    "            \"description\": \"Retrieve the lyrics of a specific song.\",\n",
    "            \"parameters\": {\n",
    "                \"type\": \"object\",\n",
    "                \"properties\": {\n",
    "                    \"song\": {\"type\": \"string\", \"description\": \"The name of the song.\"},\n",
    "                    \"artist\": {\n",
    "                        \"type\": \"string\",\n",
    "                        \"description\": \"The name of the artist.\",\n",
    "                    },\n",
    "                },\n",
    "                \"required\": [\"song\", \"artist\"],\n",
    "            },\n",
    "        },\n",
    "    ],\n",
    "    \"model_answer_openai\": {\n",
    "        \"api_call\": \"coffee_shop.find_nearby\",\n",
    "        \"parameters\": {\n",
    "            \"location\": \"San Francisco\",\n",
    "            \"amenities\": [\"Wi-Fi\"],\n",
    "        },\n",
    "    },\n",
    "    \"model_answer_normal\": 'coffee_shop.find_nearby(location=\"San Francisco\", amenities=[\"Wi-Fi\"])',\n",
    "}\n",
    "\n",
    "try:\n",
    "    validate(instance=example, schema=schema)\n",
    "except ValidationError as err:\n",
    "    print(err)"
   ]
  }
 ],
 "metadata": {
  "kernelspec": {
   "display_name": "function_call_generator",
   "language": "python",
   "name": "python3"
  },
  "language_info": {
   "codemirror_mode": {
    "name": "ipython",
    "version": 3
   },
   "file_extension": ".py",
   "mimetype": "text/x-python",
   "name": "python",
   "nbconvert_exporter": "python",
   "pygments_lexer": "ipython3",
   "version": "3.12.0"
  }
 },
 "nbformat": 4,
 "nbformat_minor": 2
}
