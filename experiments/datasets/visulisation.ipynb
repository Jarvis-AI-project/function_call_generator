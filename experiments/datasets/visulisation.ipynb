{
 "cells": [
  {
   "cell_type": "markdown",
   "metadata": {},
   "source": [
    "## General Setup"
   ]
  },
  {
   "cell_type": "code",
   "execution_count": null,
   "metadata": {},
   "outputs": [],
   "source": [
    "from dotenv import load_dotenv\n",
    "import os\n",
    "from IPython.display import display, clear_output\n",
    "import matplotlib.pyplot as plt\n",
    "import time\n",
    "from transformers import AutoTokenizer\n",
    "from pathlib import Path\n",
    "from pymilvus import connections,Collection, db\n",
    "load_dotenv('../.env')"
   ]
  },
  {
   "cell_type": "code",
   "execution_count": null,
   "metadata": {},
   "outputs": [],
   "source": [
    "DATABASE_NAME = 'CUSTOM_DATASETS'\n",
    "COLLECTION_NAME = 'calculator_v1_5'"
   ]
  },
  {
   "cell_type": "code",
   "execution_count": null,
   "metadata": {},
   "outputs": [],
   "source": [
    "connections.connect(\n",
    "    alias=\"default\",\n",
    "    host=os.getenv(\"MILVUS_HOST\"),\n",
    "    port=os.getenv(\"MILVUS_PORT\"),\n",
    "    user=os.getenv(\"MILVUS_USER\"),\n",
    "    password=os.getenv(\"MILVUS_PASSWORD\"),\n",
    ")"
   ]
  },
  {
   "cell_type": "code",
   "execution_count": null,
   "metadata": {},
   "outputs": [],
   "source": [
    "if not DATABASE_NAME in db.list_database():\n",
    "    db.create_database(DATABASE_NAME)\n",
    "db.using_database(DATABASE_NAME)\n",
    "\n",
    "collection = Collection(name=COLLECTION_NAME)"
   ]
  },
  {
   "cell_type": "markdown",
   "metadata": {},
   "source": [
    "## Average Sequence Length"
   ]
  },
  {
   "cell_type": "code",
   "execution_count": null,
   "metadata": {},
   "outputs": [],
   "source": [
    "MODEL_PATH = Path('../../models/Mistral-7B-Instruct-v0.2/')"
   ]
  },
  {
   "cell_type": "code",
   "execution_count": null,
   "metadata": {},
   "outputs": [],
   "source": [
    "tokenizer = AutoTokenizer.from_pretrained(\n",
    "    MODEL_PATH,\n",
    "    padding_side='right',\n",
    "    add_eos_token=False,\n",
    "    add_bos_token=False,\n",
    "    use_fast=True\n",
    ")"
   ]
  },
  {
   "cell_type": "code",
   "execution_count": null,
   "metadata": {},
   "outputs": [],
   "source": [
    "res = collection.query_iterator(batch_size=100, output_fields=['conversation'])"
   ]
  },
  {
   "cell_type": "code",
   "execution_count": null,
   "metadata": {},
   "outputs": [],
   "source": [
    "def update_live_graph(data: list[dict], ax):\n",
    "    conversations = [x['conversation'] for x in data]\n",
    "    conversations_len = [len(tokenizer(x)['input_ids']) for x in conversations]\n",
    "    ax.clear()\n",
    "    ax.hist(conversations_len, bins=30, edgecolor='black', alpha=0.7, color='blue')"
   ]
  },
  {
   "cell_type": "code",
   "execution_count": null,
   "metadata": {},
   "outputs": [],
   "source": [
    "%matplotlib inline\n",
    "fig, ax = plt.subplots()\n",
    "plt.xlabel('Length of input_ids')\n",
    "plt.ylabel('Frequency')\n",
    "plt.title('Distribution of Lengths of input_ids')\n",
    "\n",
    "while True:\n",
    "    next_data = res.next()\n",
    "    if next_data:\n",
    "        update_live_graph(next_data, ax)\n",
    "        clear_output(wait=True)\n",
    "        display(fig)\n",
    "        time.sleep(10)\n",
    "    else: \n",
    "        break"
   ]
  },
  {
   "cell_type": "code",
   "execution_count": null,
   "metadata": {},
   "outputs": [],
   "source": [
    "conversations_len = [2, 6, 7, 3]"
   ]
  },
  {
   "cell_type": "code",
   "execution_count": null,
   "metadata": {},
   "outputs": [],
   "source": [
    "%matplotlib inline\n",
    "plt.figure(figsize=(10, 6))\n",
    "plt.xlabel('Length of input_ids')\n",
    "plt.ylabel('Frequency')\n",
    "plt.title('Distribution of Lengths of input_ids')\n",
    "\n",
    "plt.hist(conversations_len, bins=30, edgecolor='black', alpha=0.7, color='blue')\n",
    "plt.show()"
   ]
  }
 ],
 "metadata": {
  "kernelspec": {
   "display_name": "function_call_generator",
   "language": "python",
   "name": "python3"
  },
  "language_info": {
   "codemirror_mode": {
    "name": "ipython",
    "version": 3
   },
   "file_extension": ".py",
   "mimetype": "text/x-python",
   "name": "python",
   "nbconvert_exporter": "python",
   "pygments_lexer": "ipython3",
   "version": "3.12.0"
  }
 },
 "nbformat": 4,
 "nbformat_minor": 2
}
