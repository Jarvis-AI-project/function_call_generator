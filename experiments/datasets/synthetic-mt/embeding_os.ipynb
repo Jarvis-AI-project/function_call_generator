{
 "cells": [
  {
   "cell_type": "code",
   "execution_count": 1,
   "metadata": {},
   "outputs": [],
   "source": [
    "import torch\n",
    "import torch.nn.functional as F\n",
    "\n",
    "from torch import Tensor\n",
    "from transformers import AutoTokenizer, AutoModel"
   ]
  },
  {
   "cell_type": "code",
   "execution_count": 2,
   "metadata": {},
   "outputs": [],
   "source": [
    "# _MODEL_PATH = \"/mnt/nvme/MODELS/EMBEDINGS/e5-mistral-7b-instruct/\"\n",
    "_MODEL_PATH = \"/mnt/nvme/MODELS/EMBEDINGS/UAE-Large-V1/\""
   ]
  },
  {
   "cell_type": "code",
   "execution_count": 3,
   "metadata": {},
   "outputs": [],
   "source": [
    "tokenizer = AutoTokenizer.from_pretrained(_MODEL_PATH, device=\"cuda:1\")\n",
    "model = AutoModel.from_pretrained(\n",
    "    _MODEL_PATH,\n",
    "    device_map=\"cuda:1\",\n",
    "    torch_dtype=torch.float16,\n",
    "    low_cpu_mem_usage=True\n",
    ")"
   ]
  },
  {
   "cell_type": "code",
   "execution_count": 4,
   "metadata": {},
   "outputs": [],
   "source": [
    "# def last_token_pool(\n",
    "#     last_hidden_states: Tensor,\n",
    "#     attention_mask: Tensor\n",
    "#     ) -> Tensor:\n",
    "    \n",
    "#     left_padding = (attention_mask[:, -1].sum() == attention_mask.shape[0])\n",
    "#     if left_padding:\n",
    "#         return last_hidden_states[:, -1]\n",
    "#     else:\n",
    "#         sequence_lengths = attention_mask.sum(dim=1) - 1\n",
    "#         batch_size = last_hidden_states.shape[0]\n",
    "#         return last_hidden_states[torch.arange(batch_size, device=last_hidden_states.device), sequence_lengths]\n"
   ]
  },
  {
   "cell_type": "code",
   "execution_count": 5,
   "metadata": {},
   "outputs": [],
   "source": [
    "# def get_detailed_instruct(task_description: str, query: str) -> str:\n",
    "#     return f'Instruct: {task_description}\\nQuery: {query}'\n"
   ]
  },
  {
   "cell_type": "code",
   "execution_count": 6,
   "metadata": {},
   "outputs": [],
   "source": [
    "# Each query must come with a one-sentence instruction that describes the task\n",
    "# task = 'Given a web search query, retrieve relevant passages that answer the query'\n",
    "# input_texts = [\n",
    "#     get_detailed_instruct(task, 'how much protein should a female eat'),\n",
    "    \n",
    "#     get_detailed_instruct(task, 'summit define'),\n",
    "    \n",
    "#     \"As a general guideline, the CDC's average requirement of protein for women ages 19 to 70 is 46 grams per day. But, as you can see from this chart, you'll need to increase that if you're expecting or training for a marathon. Check out the chart below to see how much protein you should be eating each day.\",\n",
    "    \n",
    "#     \"Definition of summit for English Language Learners. : 1  the highest point of a mountain : the top of a mountain. : 2  the highest level. : 3  a meeting or series of meetings between the leaders of two or more governments.\"\n",
    "# ]"
   ]
  },
  {
   "cell_type": "code",
   "execution_count": 8,
   "metadata": {},
   "outputs": [
    {
     "data": {
      "text/plain": [
       "{'input_ids': [[101, 16021, 18300, 1024, 2445, 1037, 4773, 3945, 23032, 1010, 12850, 7882, 13768, 2008, 3437, 1996, 23032, 23032, 1024, 2129, 2172, 5250, 2323, 1037, 2931, 4521, 102], [101, 16021, 18300, 1024, 2445, 1037, 4773, 3945, 23032, 1010, 12850, 7882, 13768, 2008, 3437, 1996, 23032, 23032, 1024, 6465, 9375, 102], [101, 2004, 1037, 2236, 5009, 4179, 1010, 1996, 26629, 1005, 1055, 2779, 9095, 1997, 5250, 2005, 2308, 5535, 2539, 2000, 3963, 2003, 4805, 20372, 2566, 2154, 1012, 2021, 1010, 2004, 2017, 2064, 2156, 2013, 2023, 3673, 1010, 2017, 1005, 2222, 2342, 2000, 3623, 2008, 2065, 2017, 1005, 2128, 8074, 2030, 2731, 2005, 1037, 8589, 1012, 4638, 2041, 1996, 3673, 2917, 2000, 2156, 2129, 2172, 5250, 2017, 2323, 2022, 5983, 2169, 2154, 1012, 102], [101, 6210, 1997, 6465, 2005, 2394, 2653, 26262, 1012, 1024, 1015, 1996, 3284, 2391, 1997, 1037, 3137, 1024, 1996, 2327, 1997, 1037, 3137, 1012, 1024, 1016, 1996, 3284, 2504, 1012, 1024, 1017, 1037, 3116, 2030, 2186, 1997, 6295, 2090, 1996, 4177, 1997, 2048, 2030, 2062, 6867, 1012, 102]], 'token_type_ids': [[0, 0, 0, 0, 0, 0, 0, 0, 0, 0, 0, 0, 0, 0, 0, 0, 0, 0, 0, 0, 0, 0, 0, 0, 0, 0, 0], [0, 0, 0, 0, 0, 0, 0, 0, 0, 0, 0, 0, 0, 0, 0, 0, 0, 0, 0, 0, 0, 0], [0, 0, 0, 0, 0, 0, 0, 0, 0, 0, 0, 0, 0, 0, 0, 0, 0, 0, 0, 0, 0, 0, 0, 0, 0, 0, 0, 0, 0, 0, 0, 0, 0, 0, 0, 0, 0, 0, 0, 0, 0, 0, 0, 0, 0, 0, 0, 0, 0, 0, 0, 0, 0, 0, 0, 0, 0, 0, 0, 0, 0, 0, 0, 0, 0, 0, 0, 0, 0, 0, 0, 0, 0], [0, 0, 0, 0, 0, 0, 0, 0, 0, 0, 0, 0, 0, 0, 0, 0, 0, 0, 0, 0, 0, 0, 0, 0, 0, 0, 0, 0, 0, 0, 0, 0, 0, 0, 0, 0, 0, 0, 0, 0, 0, 0, 0, 0, 0, 0, 0, 0]]}"
      ]
     },
     "execution_count": 8,
     "metadata": {},
     "output_type": "execute_result"
    }
   ],
   "source": [
    "# max_length = 4096\n",
    "# Tokenize the input texts\n",
    "# batch_dict = tokenizer(input_texts, max_length=max_length - 1, return_attention_mask=False, padding=False, truncation=True)\n",
    "# batch_dict = tokenizer(input_texts, return_attention_mask=False, padding=False, truncation=True)\n",
    "# batch_dict"
   ]
  },
  {
   "cell_type": "code",
   "execution_count": 10,
   "metadata": {},
   "outputs": [],
   "source": [
    "# append eos_token_id to every input_ids\n",
    "# batch_dict['input_ids'] = [input_ids + [tokenizer.eos_token_id] for input_ids in batch_dict['input_ids']]\n",
    "# batch_dict = tokenizer.pad(batch_dict, padding=True, return_attention_mask=True, return_tensors='pt')\n",
    "# batch_dict = {k: v.to(model.device) for k, v in batch_dict.items()}"
   ]
  },
  {
   "cell_type": "code",
   "execution_count": 19,
   "metadata": {},
   "outputs": [],
   "source": [
    "# outputs = model(**batch_dict)"
   ]
  },
  {
   "cell_type": "code",
   "execution_count": 22,
   "metadata": {},
   "outputs": [
    {
     "data": {
      "text/plain": [
       "torch.Size([4, 4096])"
      ]
     },
     "execution_count": 22,
     "metadata": {},
     "output_type": "execute_result"
    }
   ],
   "source": [
    "# embeddings = last_token_pool(outputs.last_hidden_state, batch_dict['attention_mask'])\n",
    "# embeddings.shape"
   ]
  },
  {
   "cell_type": "code",
   "execution_count": 23,
   "metadata": {},
   "outputs": [
    {
     "name": "stdout",
     "output_type": "stream",
     "text": [
      "[[82.9375, 47.96875], [46.9375, 81.8125]]\n"
     ]
    }
   ],
   "source": [
    "# normalize embeddings\n",
    "# embeddings = F.normalize(embeddings, p=2, dim=1)\n",
    "# scores = (embeddings[:2] @ embeddings[2:].T) * 100\n",
    "# print(scores.tolist())"
   ]
  },
  {
   "cell_type": "code",
   "execution_count": 11,
   "metadata": {},
   "outputs": [
    {
     "name": "stderr",
     "output_type": "stream",
     "text": [
      "huggingface/tokenizers: The current process just got forked, after parallelism has already been used. Disabling parallelism to avoid deadlocks...\n",
      "To disable this warning, you can either:\n",
      "\t- Avoid using `tokenizers` before the fork if possible\n",
      "\t- Explicitly set the environment variable TOKENIZERS_PARALLELISM=(true | false)\n"
     ]
    }
   ],
   "source": [
    "from sklearn.metrics.pairwise import cosine_similarity\n",
    "from scipy.spatial.distance import cosine"
   ]
  },
  {
   "cell_type": "code",
   "execution_count": 12,
   "metadata": {},
   "outputs": [],
   "source": [
    "text1=\"\"\"\n",
    "USER: Hello Jarvis, how much would it cost to install new carpeting on my house's stairs? The steps are three feet broad and ten feet long. I would want to utilise a $5 per square foot carpet. \n",
    "ASSISTANT: Alright, Mr. I'll figure that out for you. <calculator> 3 * 10 30 <calculator> 30 * 5 150 </calculator>There would be a $150 overall cost.</s> Do you need my assistance with anything else right now?\n",
    "\"\"\"\n",
    "\n",
    "text2=\"\"\"\n",
    "USER: Hello Jarvis, how much would it cost to install new carpeting on my house's stairs? The steps are three feet broad and ten feet long. I would want to utilize a $5 per square foot carpet. \n",
    "ASSISTANT: Alright, Mr. I'll figure that out for you. <calculator> 3 * 10 30 <calculator> 30 * 5 150 </calculator>There would be a $150 overall cost.</s> Do you need my assistance with anything else right now?\n",
    "\"\"\"\n",
    "# text2 = input_texts[-1]"
   ]
  },
  {
   "cell_type": "code",
   "execution_count": 13,
   "metadata": {},
   "outputs": [],
   "source": [
    "text1 = tokenizer(text1, return_tensors=\"pt\", padding=True, truncation=True)\n",
    "text1 = {k: v.to(model.device) for k, v in text1.items()}\n",
    "text2 = tokenizer(text2, return_tensors=\"pt\", padding=True, truncation=True)\n",
    "text2 = {k: v.to(model.device) for k, v in text2.items()}"
   ]
  },
  {
   "cell_type": "code",
   "execution_count": 14,
   "metadata": {},
   "outputs": [
    {
     "data": {
      "text/plain": [
       "torch.Size([1, 113])"
      ]
     },
     "execution_count": 14,
     "metadata": {},
     "output_type": "execute_result"
    }
   ],
   "source": [
    "text1['input_ids'].shape"
   ]
  },
  {
   "cell_type": "code",
   "execution_count": 15,
   "metadata": {},
   "outputs": [],
   "source": [
    "# text1_embeddings = last_token_pool(model(**text1).last_hidden_state, text1['attention_mask'])\n",
    "# text2_embeddings = last_token_pool(model(**text2).last_hidden_state, text2['attention_mask'])\n",
    "\n",
    "text1_embeddings = model(**text1).last_hidden_state[:, -1]\n",
    "text2_embeddings = model(**text2).last_hidden_state[:, -1]"
   ]
  },
  {
   "cell_type": "code",
   "execution_count": 16,
   "metadata": {},
   "outputs": [
    {
     "data": {
      "text/plain": [
       "(torch.Size([1, 1024]), torch.Size([1, 1024]))"
      ]
     },
     "execution_count": 16,
     "metadata": {},
     "output_type": "execute_result"
    }
   ],
   "source": [
    "text1_embeddings.shape, text2_embeddings.shape"
   ]
  },
  {
   "cell_type": "code",
   "execution_count": 17,
   "metadata": {},
   "outputs": [
    {
     "data": {
      "text/plain": [
       "array([[0.99798365]])"
      ]
     },
     "execution_count": 17,
     "metadata": {},
     "output_type": "execute_result"
    }
   ],
   "source": [
    "cosine_similarity(text1_embeddings.cpu().detach().numpy(), text2_embeddings.cpu().detach().numpy())"
   ]
  },
  {
   "cell_type": "code",
   "execution_count": 134,
   "metadata": {},
   "outputs": [
    {
     "data": {
      "text/plain": [
       "0.0009765625"
      ]
     },
     "execution_count": 134,
     "metadata": {},
     "output_type": "execute_result"
    }
   ],
   "source": [
    "cosine(text1_embeddings.squeeze().cpu().detach().numpy(), text2_embeddings.squeeze().cpu().detach().numpy())"
   ]
  },
  {
   "cell_type": "code",
   "execution_count": 84,
   "metadata": {},
   "outputs": [
    {
     "data": {
      "text/plain": [
       "array([[-1.724 ,  0.5835, -1.649 , ...,  0.2216, -2.031 ,  2.676 ]],\n",
       "      dtype=float16)"
      ]
     },
     "execution_count": 84,
     "metadata": {},
     "output_type": "execute_result"
    }
   ],
   "source": [
    "text1_embeddings.cpu().detach().numpy()"
   ]
  },
  {
   "cell_type": "code",
   "execution_count": 85,
   "metadata": {},
   "outputs": [
    {
     "data": {
      "text/plain": [
       "array([[-1.724 ,  0.5835, -1.649 , ...,  0.2216, -2.031 ,  2.676 ]],\n",
       "      dtype=float16)"
      ]
     },
     "execution_count": 85,
     "metadata": {},
     "output_type": "execute_result"
    }
   ],
   "source": [
    "text2_embeddings.cpu().detach().numpy()"
   ]
  }
 ],
 "metadata": {
  "kernelspec": {
   "display_name": "function_call_generator",
   "language": "python",
   "name": "python3"
  },
  "language_info": {
   "codemirror_mode": {
    "name": "ipython",
    "version": 3
   },
   "file_extension": ".py",
   "mimetype": "text/x-python",
   "name": "python",
   "nbconvert_exporter": "python",
   "pygments_lexer": "ipython3",
   "version": "3.12.0"
  }
 },
 "nbformat": 4,
 "nbformat_minor": 2
}
