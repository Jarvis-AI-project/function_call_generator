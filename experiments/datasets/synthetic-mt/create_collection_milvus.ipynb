{
 "cells": [
  {
   "cell_type": "code",
   "execution_count": null,
   "metadata": {},
   "outputs": [],
   "source": [
    "from pymilvus import connections, FieldSchema, CollectionSchema, DataType, Collection, utility, db\n",
    "from dotenv import load_dotenv\n",
    "import os\n",
    "load_dotenv()"
   ]
  },
  {
   "cell_type": "code",
   "execution_count": null,
   "metadata": {},
   "outputs": [],
   "source": [
    "connections.connect(\n",
    "    alias=\"default\",\n",
    "    host = os.getenv(\"MILVUS_HOST\"),\n",
    "    port = 19530,\n",
    "    user=os.getenv(\"MILVUS_USER\"),\n",
    "    password=os.getenv(\"MILVUS_PASSWORD\"),\n",
    ")"
   ]
  },
  {
   "cell_type": "code",
   "execution_count": null,
   "metadata": {},
   "outputs": [],
   "source": [
    "# db.create_database(\"JARVIS\")"
   ]
  },
  {
   "cell_type": "code",
   "execution_count": null,
   "metadata": {},
   "outputs": [],
   "source": [
    "db.using_database(\"JARVIS\")"
   ]
  },
  {
   "cell_type": "code",
   "execution_count": null,
   "metadata": {},
   "outputs": [],
   "source": [
    "utility.list_collections()"
   ]
  },
  {
   "cell_type": "code",
   "execution_count": null,
   "metadata": {},
   "outputs": [],
   "source": [
    "conversation_id = FieldSchema(name=\"conversation_id\", dtype=DataType.INT64, is_primary=True, auto_id=True, description=\"Unique id for each conversation\")\n",
    "embeding = FieldSchema(name=\"embeding\", dtype=DataType.FLOAT_VECTOR, dim=1024, description=\"Embedings generated using UAE_v2\")\n",
    "conversation = FieldSchema(name=\"conversation\", dtype=DataType.JSON, description=\"conversation data\")\n",
    "\n",
    "schema = CollectionSchema(fields=[conversation_id, embeding, conversation], description=\"Conversations for using Calculator\")\n",
    "\n",
    "collection = Collection(name=\"calculator\", schema=schema)"
   ]
  },
  {
   "cell_type": "code",
   "execution_count": null,
   "metadata": {},
   "outputs": [],
   "source": [
    "collection.create_index(\n",
    "    field_name=\"embeding\", \n",
    "    index_params={\n",
    "        \"index_type\": \"IVF_FLAT\",\n",
    "        \"metric_type\": \"COSINE\",\n",
    "        \"params\": {\"nlist\": 128}\n",
    "    }\n",
    ")"
   ]
  },
  {
   "cell_type": "code",
   "execution_count": null,
   "metadata": {},
   "outputs": [],
   "source": [
    "collection.load()"
   ]
  }
 ],
 "metadata": {
  "kernelspec": {
   "display_name": "function_call_generator",
   "language": "python",
   "name": "python3"
  },
  "language_info": {
   "codemirror_mode": {
    "name": "ipython",
    "version": 3
   },
   "file_extension": ".py",
   "mimetype": "text/x-python",
   "name": "python",
   "nbconvert_exporter": "python",
   "pygments_lexer": "ipython3",
   "version": "3.12.0"
  }
 },
 "nbformat": 4,
 "nbformat_minor": 2
}
