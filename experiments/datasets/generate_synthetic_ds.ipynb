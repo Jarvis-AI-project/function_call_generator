{
 "cells": [
  {
   "cell_type": "code",
   "execution_count": null,
   "metadata": {},
   "outputs": [],
   "source": [
    "from dotenv import load_dotenv\n",
    "from threading import Thread\n",
    "import openai\n",
    "import google.generativeai as genai\n",
    "import os\n",
    "import asyncio\n",
    "import time\n",
    "import ast\n",
    "import re\n",
    "from datetime import datetime, timedelta\n",
    "import calendar\n",
    "from pymilvus import connections, FieldSchema, CollectionSchema, DataType, Collection, utility, db\n",
    "from transformers import LlamaTokenizerFast\n",
    "load_dotenv('../.env')\n"
   ]
  },
  {
   "cell_type": "code",
   "execution_count": null,
   "metadata": {},
   "outputs": [],
   "source": [
    "tokenizer = LlamaTokenizerFast.from_pretrained(\"hf-internal-testing/llama-tokenizer\")\n"
   ]
  },
  {
   "cell_type": "code",
   "execution_count": null,
   "metadata": {},
   "outputs": [],
   "source": [
    "MAX_QUERIES_PER_MINUTE = 60\n",
    "DATABASE_NAME = 'CUSTOM_DATASETS'\n",
    "COLLECTION_NAME = 'calculator_v2_test'\n"
   ]
  },
  {
   "cell_type": "code",
   "execution_count": null,
   "metadata": {},
   "outputs": [],
   "source": [
    "SYSTEM_PROMPT = \"\"\"\n",
    "Generate a sample Multi-Turn conversation between a user and a voice assistant named JARVIS in which the voice assistant has the capability of using a calculator (for calculation), datetime (to see current day date time in `DAY YYYY-MM-DD HH:MM:SS` format). The assistant has a frank personality and is very helpful.\n",
    "The calculator can perform these arithmetic operations.\n",
    "1. Addition (+): adds two operands\n",
    "2. Subtraction (-): subtracts two operands\n",
    "3. Multiplication (*): multiplies two operands\n",
    "4. Division (/): divides two operands\n",
    "5. Modulus (%): returns the remainder when the first operand is divided by the second\n",
    "6. Floor division (//): returns the quotient when the first operand is divided by the second\n",
    "7. Exponent (**): returns the first operand raised to the power of the second operand\n",
    "NOTE: `^` is not a valid operator for exponentiation. Use `**` instead.\n",
    "\n",
    "NOTE: This calculator works on the BODMAS rule which means multiplication and division are performed before addition and subtraction.\n",
    "Example Usage:\n",
    "<calculator>(2+3)</calculator>\n",
    "\n",
    "NOTE: If you need to use two or more operators in a single expression, every time you \"must\" apply brackets to specify the order of operations.\n",
    "Precedence of operators:\n",
    "1. Exponentiation (**)\n",
    "2. Multiplication (*), Division (/), Floor division (//), and Modulus (%)\n",
    "3. Addition (+) and Subtraction (-)\n",
    "Example Usage:\n",
    "<calculator>(2+(3*4))</calculator> Here, 3 and 4 will be multiplied first and then the result will be added to 2.\n",
    "\n",
    "## Example use of `<calculator>` tag\n",
    "<|user|>\n",
    "Hey, buddy, I'm planning a road trip, and I want to calculate the total distance I'll be driving. The trip involves multiple stops, and I have the distances between each pair of stops. Can you help me find the total distance?</s>\n",
    "<|assistant|>\n",
    "Absolutely! I'd be happy to assist. Could you provide me with the distances between each pair of stops and the list of stops on your road trip?</s>\n",
    "<|user|>\n",
    "Sure, Home to Gas Station is 10 miles Gas Station to Mountain View is 30 miles Mountain View to Lakeside Park is 15 miles Lakeside Park to Beach Resort is 25 miles Beach Resort to Home is 40 miles.</s>\n",
    "<|assistant|>\n",
    "Great, <calculator>(10+30+15+25+40)<stop>120</calculator>the total distance is 120 miles. Is there anything else I can help you with?</s>\n",
    "<|user|>\n",
    "That's perfect. One more thing, what's the average speed I should maintain if I want to reach the Beach Resort in 2 hours?</s>\n",
    "<|assistant|>\n",
    "Let me calculate that for you. <calculator>(120/2)<stop>60</calculator>You should maintain an average speed of 60 miles per hour. Is there anything else I can help you with?</s>\n",
    "<|user|>\n",
    "That's all I need. Thanks for your help.</s>\n",
    "<|assistant|>\n",
    "You're welcome. Have a great trip! Drive Safe, and feel free to ask for any help.</s>\n",
    "\n",
    "## Example use of `<datetime>` tag, Output of `<datetime>` tag should be in the format of `DAY YYYY-MM-DD HH:MM:SS`. eg. Fri 2024-02-01 18:17:04\n",
    "<|user|>\n",
    "Hey, what is the date today?</s>\n",
    "<|assistant|>\n",
    "Today is <datetime><stop>Fri 2024-02-01 18:17:04</datetime> first September.</s>\n",
    "<|user|>\n",
    "Hey, what is the time now?</s>\n",
    "<|assistant|>\n",
    "The time is <datetime><stop>Fri 2024-02-01 18:17:04</datetime> six seventeen PM.</s>\n",
    "<|user|>\n",
    "Can you tell me exact time including seconds?</s>\n",
    "<|assistant|>\n",
    "The time is <datetime><stop>Fri 2024-02-01 18:17:14</datetime> six seventeen and fourteen seconds PM.</s>\n",
    "<|user|>\n",
    "What time it will be from twenty two hours from now?</s>\n",
    "<|assistant|>\n",
    "The time will be <datetime><stop>Sat 2024-02-02 16:17:14</datetime> four seventeen and fourteen seconds PM.</s>\n",
    "\n",
    "Generate more such conversations to train the assistant. \n",
    "- The main calculation should be surrounded by \"<calculator>\" and \"</calculator>\" which will not be shown to the user and is evaluated by a computer. \n",
    "- You should use the output of the calculator in your response, eg. <|user|>\\nWhat is 2 + 2?\\n<|assistant|>\\n2 plus 2 is <calculator>(2+2)<stop>4</calculator>four.\n",
    "- Assume this system is being used to do day-to-day tasks.\n",
    "- Do not explain your calculation to the user.\n",
    "- User query can't contain any kind of symbols such as (%, $,₹, .,), etc. Instead, it should use the corresponding word representation of the symbols eg. dollar for $ and percentage for %\n",
    "- If the user query contains currency or a number, convert it into words eg. ₹100 -> one Hundred rupees, 3500 rupees -> thirty-five hundred rupees, ₹500 -> five hundred rupees, ₹.25 -> twenty-five paisa.\n",
    "- Try to use currency as rupees\n",
    "- Both User queries and Assistant response should end with \"</s>\"\n",
    "- the assistant response should contain \"<stop>\" after the expression in between the opening and closing tags of \"<calculator>\" and \"</calculator>\". eg. ASSISTANT: The cost of a dozen eggs would be <calculator>(1*12)<stop>12</calculator>twelve rupees.</s>\n",
    "- If the calculator gives a float value, round it accordingly. eg. calculator gives you 4.98 output, you can say \"almost five\" to the user.\n",
    "- If you need to use some constants such as \"pi\" during calculations use its value 3.14.\n",
    "\n",
    "Generate more such MT-conversations to train the assistant. You should use all available tags in your conversations integratively.\n",
    "\"\"\"\n"
   ]
  },
  {
   "cell_type": "markdown",
   "metadata": {},
   "source": [
    "## Function to get embeddings"
   ]
  },
  {
   "cell_type": "code",
   "execution_count": null,
   "metadata": {},
   "outputs": [],
   "source": [
    "# def get_embeding(text: str) -> tuple[list[float], str]:\n",
    "#     __model_name = \"text-embedding-ada-002\"\n",
    "#     return openai.embeddings.create(\n",
    "#         model=__model_name,\n",
    "#         input=[text]\n",
    "#     ).data[0].embedding, __model_name\n"
   ]
  },
  {
   "cell_type": "markdown",
   "metadata": {},
   "source": [
    "## Setting API Keys and Connecting to the Database"
   ]
  },
  {
   "cell_type": "code",
   "execution_count": null,
   "metadata": {},
   "outputs": [],
   "source": [
    "# openai.api_key = os.getenv('OPENAI_API_KEY')\n"
   ]
  },
  {
   "cell_type": "code",
   "execution_count": null,
   "metadata": {},
   "outputs": [],
   "source": [
    "genai.configure(api_key=os.getenv('GEMINI_API_KEY'))\n"
   ]
  },
  {
   "cell_type": "code",
   "execution_count": null,
   "metadata": {},
   "outputs": [],
   "source": [
    "connections.connect(\n",
    "    alias=\"default\",\n",
    "    host=os.getenv(\"MILVUS_HOST\"),\n",
    "    port=os.getenv(\"MILVUS_PORT\"),\n",
    "    user=os.getenv(\"MILVUS_USER\"),\n",
    "    password=os.getenv(\"MILVUS_PASSWORD\"),\n",
    ")\n"
   ]
  },
  {
   "cell_type": "markdown",
   "metadata": {},
   "source": [
    "## Creating Milvus Database to store embeddings and text data"
   ]
  },
  {
   "cell_type": "code",
   "execution_count": null,
   "metadata": {},
   "outputs": [],
   "source": [
    "if not DATABASE_NAME in db.list_database():\n",
    "    db.create_database(DATABASE_NAME)\n",
    "db.using_database(DATABASE_NAME)\n"
   ]
  },
  {
   "cell_type": "code",
   "execution_count": null,
   "metadata": {},
   "outputs": [],
   "source": [
    "if not COLLECTION_NAME in utility.list_collections():\n",
    "    # Create collection\n",
    "    schema = CollectionSchema(\n",
    "        fields=[\n",
    "            FieldSchema(\n",
    "                name=\"conversation_id\", \n",
    "                dtype=DataType.INT64, \n",
    "                is_primary=True, \n",
    "                auto_id=True, \n",
    "                description=\"Unique id for each conversation\"\n",
    "            ), \n",
    "            # FieldSchema(\n",
    "            #     name=\"embeding\", \n",
    "            #     dtype=DataType.FLOAT_VECTOR, \n",
    "            #     dim=len(get_embeding(\"Hello\")[0]),\n",
    "            #     description=f\"Embedings generated using '{get_embeding('Hello')[1]}'\"\n",
    "            # ),\n",
    "            FieldSchema(\n",
    "                name=\"conversation\",\n",
    "                dtype=DataType.VARCHAR,\n",
    "                max_length=2048,\n",
    "                description=\"Conversation between user and assistant\"\n",
    "                )\n",
    "            ], \n",
    "        enable_dynamic_field=True,\n",
    "        description=SYSTEM_PROMPT\n",
    "    )\n",
    "\n",
    "    collection = Collection(name=COLLECTION_NAME, schema=schema)\n",
    "\n",
    "    collection.create_index(\n",
    "        field_name=\"embeding\", \n",
    "        index_params={\n",
    "            \"index_type\": \"IVF_FLAT\",\n",
    "            \"metric_type\": \"COSINE\",\n",
    "            \"params\": {\"nlist\": 128}\n",
    "        }\n",
    "    )\n",
    "\n",
    "    print(f'Collection {COLLECTION_NAME} created successfully.')\n",
    "\n",
    "else:\n",
    "    collection = Collection(name=COLLECTION_NAME)\n",
    "\n",
    "collection.load()\n",
    "print(f'Collection {COLLECTION_NAME} loaded successfully.')\n"
   ]
  },
  {
   "cell_type": "markdown",
   "metadata": {},
   "source": [
    "## Gemini Config"
   ]
  },
  {
   "cell_type": "code",
   "execution_count": null,
   "metadata": {},
   "outputs": [],
   "source": [
    "generation_config = genai.types.GenerationConfig(\n",
    "    candidate_count=1,\n",
    "    temperature=0.9,\n",
    "    max_output_tokens= 1024,\n",
    "    # stop_sequences=[\"<stop>\"]\n",
    ")\n",
    "\n",
    "model = genai.GenerativeModel(\n",
    "    model_name=\"gemini-pro\",\n",
    "    generation_config=generation_config,\n",
    "    safety_settings=None\n",
    ")\n"
   ]
  },
  {
   "cell_type": "markdown",
   "metadata": {},
   "source": [
    "## Test Cases"
   ]
  },
  {
   "cell_type": "code",
   "execution_count": null,
   "metadata": {},
   "outputs": [],
   "source": [
    "def assistant_response_endswith_eos_token(text: str):\n",
    "    # Matches all the assistant responses in the text except the last one\n",
    "    expr = r'<\\|assistant\\|>\\n(.*?)<\\|user\\|>'\n",
    "    assistant_responses = [x.strip() for x in re.findall(expr, text, re.DOTALL)]\n",
    "    # Last assistant response\n",
    "    assistant_responses.append(text.split('<|assistant|>')[-1].strip())\n",
    "    return not all([x.endswith('</s>') for x in assistant_responses])\n"
   ]
  },
  {
   "cell_type": "code",
   "execution_count": null,
   "metadata": {},
   "outputs": [],
   "source": [
    "def stop_token_between_calculator_tags(text):\n",
    "    expr = r'<calculator>(.*?)</calculator>'\n",
    "    calculator_expressions = [x.strip() for x in re.findall(expr, text)]\n",
    "    return not all([x.count('<stop>') == 1 for x in calculator_expressions])\n"
   ]
  },
  {
   "cell_type": "code",
   "execution_count": null,
   "metadata": {},
   "outputs": [],
   "source": [
    "def number_of_open_calc_tags_equal_number_of_close_calc_tags(text):\n",
    "    return not text.count('<calculator>') == text.count('</calculator>')\n"
   ]
  },
  {
   "cell_type": "code",
   "execution_count": null,
   "metadata": {},
   "outputs": [],
   "source": [
    "# def is_calculator_calculation_correct(text, debug=False):\n",
    "#     expr = r'<calculator>(.*?)<stop>(.*?)</calculator>'\n",
    "#     calculator_expressions = re.findall(expr, text)\n",
    "#     if debug:\n",
    "#         return [f'{x} -> {eval(x[0]) == eval(x[1])}' for x in calculator_expressions]\n",
    "#     return not all([eval(x[0]) == eval(x[1]) for x in calculator_expressions])\n"
   ]
  },
  {
   "cell_type": "code",
   "execution_count": null,
   "metadata": {},
   "outputs": [],
   "source": [
    "def user_input_should_not_contain_special_token(text):\n",
    "    spl_tokens = ['<s>', '</s>', '<unk>', '<calculator>', '</calculator>', '<stop>']\n",
    "    expr = r'<\\|user\\|>\\n(.*?)<\\|assistant\\|>'\n",
    "    user_inputs = [x.strip() for x in re.findall(expr, text)]\n",
    "    return not all([not any([x.count(y) > 0 for y in spl_tokens]) for x in user_inputs])\n"
   ]
  },
  {
   "cell_type": "code",
   "execution_count": null,
   "metadata": {},
   "outputs": [],
   "source": [
    "def number_of_user_inputs_equal_number_of_assistant_responses(text):\n",
    "    return not text.count('<|user|>') == text.count('<|assistant|>')\n"
   ]
  },
  {
   "cell_type": "code",
   "execution_count": null,
   "metadata": {},
   "outputs": [],
   "source": [
    "def test_response(text):\n",
    "    return assistant_response_endswith_eos_token(text) or stop_token_between_calculator_tags(text) or number_of_open_calc_tags_equal_number_of_close_calc_tags(text) or user_input_should_not_contain_special_token(text) or number_of_user_inputs_equal_number_of_assistant_responses(text)\n"
   ]
  },
  {
   "cell_type": "markdown",
   "metadata": {},
   "source": [
    "## Generate Data"
   ]
  },
  {
   "cell_type": "code",
   "execution_count": null,
   "metadata": {},
   "outputs": [],
   "source": [
    "def calculator(expr: str) -> str:\n",
    "    \"\"\"Evaluates the expression and returns the result. \n",
    "    \n",
    "    Args:\n",
    "        expr (`str`): The expression to be evaluated.\n",
    "\n",
    "    Returns:\n",
    "        `str`: The result of the expression rounded to 2 decimal places.\n",
    "        If the expression is invalid, it will return `Invalid expression: <error>`.\n",
    "\n",
    "    Example:\n",
    "        <calculator>(2+3)<stop>5</calculator>\n",
    "    \"\"\"\n",
    "    try:\n",
    "        parsed_expression = ast.parse(expr, mode='eval')\n",
    "        result = eval(compile(parsed_expression, filename='<string>', mode='eval'))\n",
    "        return str(round(result, 2))\n",
    "\n",
    "    except Exception as e:\n",
    "        return f'Invalid expression: {e}'\n",
    "\n",
    "calculator('5/3)')\n"
   ]
  },
  {
   "cell_type": "code",
   "execution_count": null,
   "metadata": {},
   "outputs": [],
   "source": [
    "def get_DayDateTime():\n",
    "    \"\"\"Returns current date time in `DAY YYYY-MM-DD HH:MM:SS` format. \n",
    "\n",
    "    Args:\n",
    "        None\n",
    "\n",
    "    Returns:\n",
    "        `str`: Current date time in `DAY YYYY-MM-DD HH:MM:SS` format.\n",
    "    \n",
    "    Example:\n",
    "    <datetime><stop>Fri 2024-02-01 18:17:04</datetime>\n",
    "    \"\"\"\n",
    "    try:\n",
    "        return datetime.now().strftime(\"%a %Y-%m-%d %H:%M:%S\")\n",
    "\n",
    "    except Exception as e:\n",
    "        return f'ERROR: {e}'\n",
    "\n",
    "get_DayDateTime()\n"
   ]
  },
  {
   "cell_type": "code",
   "execution_count": null,
   "metadata": {},
   "outputs": [],
   "source": [
    "def deltatime(start_time: str, end_time: str):\n",
    "    \"\"\"Compute time difference between two time strings in HH:MM:SS format and return the result in x hours y minutes z seconds format.\n",
    "\n",
    "    `NOTE`: If the start time is greater than the end time, it will swap the start and end time, so the result will always be positive.\n",
    "    \n",
    "    Args:\n",
    "        start_time (`str`): Start time in HH:MM:SS format.\n",
    "        end_time (`str`): End time in HH:MM:SS format.\n",
    "\n",
    "    Returns:\n",
    "        `str`: Time difference in x hours y minutes z seconds format.\n",
    "    \n",
    "    Example:\n",
    "    >>> deltatime('18:03:18', '20:02:33')\n",
    "    '1 hours 59 minutes 15 seconds'\n",
    "    \"\"\"\n",
    "    try:\n",
    "        start_time = datetime.strptime(start_time, \"%H:%M:%S\")\n",
    "        end_time = datetime.strptime(end_time, \"%H:%M:%S\")\n",
    "\n",
    "        if start_time > end_time:\n",
    "            start_time, end_time = end_time, start_time\n",
    "        \n",
    "        time_diff = end_time - start_time\n",
    "        hours, remainder = divmod(time_diff.seconds, 3600)\n",
    "        minutes, seconds = divmod(remainder, 60)\n",
    "        return f'{hours} hours {minutes} minutes {seconds} seconds'\n",
    "\n",
    "    except Exception as e:\n",
    "        return f'Invalid Time: {e}'\n",
    "    \n",
    "deltatime('20:2:33', '18:03:18')\n",
    "# deltatime('18:03:18', '20:02:33')\n"
   ]
  },
  {
   "cell_type": "code",
   "execution_count": null,
   "metadata": {},
   "outputs": [],
   "source": [
    "def deltadate(start_date: str, end_date: str):\n",
    "    \"\"\"Compute date difference between two date strings in YYYY-MM-DD format and return the result in x years, x months, x days format.\n",
    "\n",
    "    `NOTE`: If the start date is greater than the end date, it will swap the start and end date, so the result will always be positive.\n",
    "    \n",
    "    Args:\n",
    "        start_date (`str`): Start date in YYYY-MM-DD format.\n",
    "        end_date (`str`): End date in YYYY-MM-DD format.\n",
    "\n",
    "    Returns:\n",
    "        `str`: Date difference in x years, x months, x days format.\n",
    "    \n",
    "    Example:\n",
    "    >>> deltadate('2021-09-01', '2021-09-09')\n",
    "    '0 years, 0 months, 8 days'\n",
    "    \"\"\"\n",
    "    # Parse input date strings\n",
    "    try:\n",
    "        start_date = datetime.strptime(start_date, \"%Y-%m-%d\")\n",
    "        end_date = datetime.strptime(end_date, \"%Y-%m-%d\")\n",
    "\n",
    "        if start_date > end_date:\n",
    "            start_date, end_date = end_date, start_date\n",
    "        \n",
    "        # Calculate date difference\n",
    "        delta = end_date - start_date\n",
    "        \n",
    "        # Format the result as x years, x months, x days\n",
    "        return f'{delta.days//365} years, {(delta.days%365)//30} months, {(delta.days%365)%30} days'\n",
    "\n",
    "    except Exception as e:\n",
    "        return f'Invalid Date: {e}'\n",
    "# deltadate('2021-09-01', '2090-09-09')\n",
    "deltadate('2021-09-09', '2021-09-01')\n"
   ]
  },
  {
   "cell_type": "code",
   "execution_count": null,
   "metadata": {},
   "outputs": [],
   "source": [
    "def get_day_for_date(date_string: str):\n",
    "    \"\"\"Get the day for a given date string in YYYY-MM-DD format.\n",
    "\n",
    "    Args:\n",
    "        date_string (`str`): The date in YYYY-MM-DD format.\n",
    "\n",
    "    Returns:\n",
    "        `str`: The day for the given date.\n",
    "    \n",
    "    Example:\n",
    "    >>> get_day_for_date('2024-02-02')\n",
    "    'Friday'\n",
    "    \"\"\"\n",
    "    try:\n",
    "        date_object = datetime.strptime(date_string, \"%Y-%m-%d\")\n",
    "        \n",
    "        # Use strftime to format the date as the day\n",
    "        day = date_object.strftime(\"%A\")\n",
    "        return day\n",
    "\n",
    "    except Exception as e:\n",
    "        return f'ERROR: {e}'\n",
    "\n",
    "get_day_for_date('2024-02-03')\n"
   ]
  },
  {
   "cell_type": "code",
   "execution_count": null,
   "metadata": {},
   "outputs": [],
   "source": [
    "def get_all_dates_for_a_day_in_a_given_month_and_year(day: str, month: str, year: int):\n",
    "    \"\"\"Get all the dates for a given day in a month and year.\n",
    "\n",
    "    Args:\n",
    "        day (`str`): The day of the week. Day should be one of the following: [Sunday, Monday, Tuesday, Wednesday, Thursday, Friday, Saturday].\n",
    "        month (`str`): The month of the year. Month should be one of the following: [January, February, March, April, May, June, July, August, September, October, November, December].\n",
    "        year (`int`): The year.\n",
    "\n",
    "    Returns:\n",
    "        `dict`: A dictionary containing the dates for the given day in the month and year.\n",
    "    \n",
    "    Example:\n",
    "    >>> get_all_dates_for_a_day_in_a_given_month_and_year('Friday', 'February', 2024)\n",
    "    {'1st Friday': '2024-02-02', '2nd Friday': '2024-02-09', '3rd Friday': '2024-02-16', '4th Friday': '2024-02-23'}\n",
    "    \"\"\"\n",
    "    try:\n",
    "        # Create a dictionary to store the result\n",
    "        result = {}\n",
    "\n",
    "        # Convert month name to its corresponding number\n",
    "        month_number = list(calendar.month_name).index(month)\n",
    "\n",
    "        # Find the day of the week for the 1st day of the given month and year\n",
    "        first_day_of_month = datetime(year, month_number, 1)\n",
    "        day_of_week = first_day_of_month.weekday()\n",
    "\n",
    "        # Calculate the offset to get to the desired day\n",
    "        days_to_add = (list(calendar.day_name).index(day) - day_of_week + 7) % 7\n",
    "\n",
    "        # Generate dates for the specified day in the given month and year\n",
    "        current_date = first_day_of_month + timedelta(days=days_to_add)\n",
    "        nth_day = 1\n",
    "        while current_date.month == month_number:\n",
    "            ordinal = 'th' if 4 <= nth_day <= 20 or 24 <= nth_day <= 30 else {1: 'st', 2: 'nd', 3: 'rd'}.get(nth_day % 10, 'th')\n",
    "            result[f'{nth_day}{ordinal} {day}'] = current_date.strftime('%dth %B %Y')\n",
    "            current_date += timedelta(weeks=1)\n",
    "            nth_day += 1\n",
    "\n",
    "        return result\n",
    "\n",
    "    except Exception as e:\n",
    "        return f'ERROR: {e}'\n",
    "\n",
    "get_all_dates_for_a_day_in_a_given_month_and_year('Saturday', 'March', 2024)\n"
   ]
  },
  {
   "cell_type": "code",
   "execution_count": null,
   "metadata": {},
   "outputs": [],
   "source": [
    "# def generate_response_gemini(text: str = ''):\n",
    "#     response = text + model.generate_content(SYSTEM_PROMPT + text).text.strip()\n",
    "#     if not response.endswith('</s>'):\n",
    "#         # print(response)\n",
    "#         response = f'{response}<stop>{calculator(response[response.rfind('<calculator>') + len('<calculator>'):])}</calculator>'\n",
    "#         return generate_response_gemini(response)\n",
    "#     return response\n"
   ]
  },
  {
   "cell_type": "code",
   "execution_count": null,
   "metadata": {},
   "outputs": [],
   "source": [
    "def generate_content(prev_text: str = ''):\n",
    "    try:\n",
    "        response = model.generate_content(SYSTEM_PROMPT + prev_text).text.strip()\n",
    "        # if not response.endswith('</s>'):\n",
    "        #     response = f'{response}<stop>{round(eval(response[response.rfind(\"<calculator>\") + len(\"<calculator>\"):]), 2)}</calculator>'\n",
    "        #     return generate_content(response)\n",
    "\n",
    "        # if not test_response(response):\n",
    "        print(prev_text + response)\n",
    "\n",
    "    except Exception as e:\n",
    "        print(e)\n",
    "\n",
    "generate_content()\n"
   ]
  },
  {
   "cell_type": "code",
   "execution_count": null,
   "metadata": {},
   "outputs": [],
   "source": [
    "response = model.generate_content(SYSTEM_PROMPT)\n"
   ]
  },
  {
   "cell_type": "code",
   "execution_count": null,
   "metadata": {},
   "outputs": [],
   "source": [
    "print(response.text)\n"
   ]
  },
  {
   "cell_type": "code",
   "execution_count": null,
   "metadata": {},
   "outputs": [],
   "source": [
    "if __name__ == '__main__':\n",
    "    while True:\n",
    "        threads = [Thread(target=insert_data_point) for _ in range(MAX_QUERIES_PER_MINUTE)]\n",
    "        for thread in threads: thread.start()\n",
    "        time.sleep(60)\n",
    "        for thread in threads: thread.join()\n"
   ]
  }
 ],
 "metadata": {
  "kernelspec": {
   "display_name": "function_call_generator",
   "language": "python",
   "name": "python3"
  },
  "language_info": {
   "codemirror_mode": {
    "name": "ipython",
    "version": 3
   },
   "file_extension": ".py",
   "mimetype": "text/x-python",
   "name": "python",
   "nbconvert_exporter": "python",
   "pygments_lexer": "ipython3",
   "version": "3.12.0"
  }
 },
 "nbformat": 4,
 "nbformat_minor": 2
}
