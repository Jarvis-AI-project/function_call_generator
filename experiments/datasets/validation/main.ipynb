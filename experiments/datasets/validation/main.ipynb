{
 "cells": [
  {
   "cell_type": "code",
   "execution_count": null,
   "metadata": {},
   "outputs": [],
   "source": [
    "import json\n",
    "from scripts.layer_0_validate_schema import validate_schema as layer_0_validate_schema"
   ]
  },
  {
   "cell_type": "code",
   "execution_count": null,
   "metadata": {},
   "outputs": [],
   "source": [
    "example = {\n",
    "    \"user_query\": \"Find a coffee shop near me with free Wi-Fi in San Francisco.\",\n",
    "    \"functions\": [\n",
    "        {\n",
    "            \"name\": \"Lyrics Finder\",\n",
    "            \"api_call\": \"lyrics.find\",\n",
    "            \"description\": \"Retrieve the lyrics of a specific song.\",\n",
    "            \"parameters\": {\n",
    "                \"type\": \"object\",\n",
    "                \"properties\": {\n",
    "                    \"song\": {\"type\": \"string\", \"description\": \"The name of the song.\"},\n",
    "                    \"artist\": {\n",
    "                        \"type\": \"string\",\n",
    "                        \"description\": \"The name of the artist.\",\n",
    "                    },\n",
    "                },\n",
    "                \"required\": [\"song\", \"artist\"],\n",
    "            },\n",
    "        },\n",
    "    ],\n",
    "    \"model_answer_openai\": {\n",
    "        \"api_call\": \"coffee_shop.find_nearby\",\n",
    "        \"parameters\": {\n",
    "            \"location\": \"San Francisco, CA\",\n",
    "            \"amenities\": [\"Wi-Fi\"],\n",
    "        },\n",
    "    },\n",
    "    \"model_answer_normal\": 'coffee_shop.find_nearby(location=\"San Francisco\", amenities=[\"Wi-Fi\"])'\n",
    "}"
   ]
  },
  {
   "cell_type": "code",
   "execution_count": null,
   "metadata": {},
   "outputs": [],
   "source": [
    "correct, total = 0, 0\n",
    "validated = []\n",
    "with open('../gorilla_openfunctions/output_cleaned_better.jsonl', 'r') as f:\n",
    "    data = f.readlines()\n",
    "    \n",
    "for num, line in enumerate(data):\n",
    "    example = json.loads(line)\n",
    "    passed, msg = layer_0_validate_schema(example)\n",
    "    if passed:\n",
    "        validated.append(example)\n",
    "        correct += 1\n",
    "    else:\n",
    "        print(f\"\\n\\nExample {num} failed validation: {msg}\")\n",
    "    total += 1\n",
    "\n",
    "print(f\"Correct: {correct}/{total}\")"
   ]
  },
  {
   "cell_type": "code",
   "execution_count": null,
   "metadata": {},
   "outputs": [],
   "source": [
    "json.loads(data[111])"
   ]
  }
 ],
 "metadata": {
  "kernelspec": {
   "display_name": "function_call_generator",
   "language": "python",
   "name": "python3"
  },
  "language_info": {
   "codemirror_mode": {
    "name": "ipython",
    "version": 3
   },
   "file_extension": ".py",
   "mimetype": "text/x-python",
   "name": "python",
   "nbconvert_exporter": "python",
   "pygments_lexer": "ipython3",
   "version": "3.12.0"
  }
 },
 "nbformat": 4,
 "nbformat_minor": 2
}
