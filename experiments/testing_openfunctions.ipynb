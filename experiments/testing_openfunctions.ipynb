{
 "cells": [
  {
   "cell_type": "code",
   "execution_count": 5,
   "metadata": {},
   "outputs": [],
   "source": [
    "import json\n",
    "import torch\n",
    "import openai\n",
    "from transformers import AutoTokenizer, AutoModelForCausalLM, pipeline\n",
    "from pprint import pprint"
   ]
  },
  {
   "cell_type": "code",
   "execution_count": 14,
   "metadata": {},
   "outputs": [],
   "source": [
    "def get_gorilla_response(prompt, functions=[], model=\"gorilla-openfunctions-v0\"):\n",
    "    openai.api_key = \"EMPTY\"\n",
    "    openai.api_base = \"http://luigi.millennium.berkeley.edu:8000/v1\"\n",
    "    # openai.api_base = \"https://limcheekin-gorilla-openfunctions-v1-gguf.hf.space/v1\"\n",
    "    try:\n",
    "        completion = openai.ChatCompletion.create(\n",
    "            model=model,\n",
    "            temperature=0.0,\n",
    "            messages=[{\"role\": \"user\", \"content\": prompt}],\n",
    "            functions=functions,\n",
    "        )\n",
    "        return completion.choices[0].message.content\n",
    "    except Exception as e:\n",
    "        print(e, model, prompt)"
   ]
  },
  {
   "cell_type": "code",
   "execution_count": 12,
   "metadata": {
    "notebookRunGroups": {
     "groupValue": ""
    }
   },
   "outputs": [],
   "source": [
    "def get_prompt(user_query: str, functions: list = []) -> str:\n",
    "    \"\"\"\n",
    "    Generates a conversation prompt based on the user's query and a list of functions.\n",
    "\n",
    "    Parameters:\n",
    "    - user_query (str): The user's query.\n",
    "    - functions (list): A list of functions to include in the prompt.\n",
    "\n",
    "    Returns:\n",
    "    - str: The formatted conversation prompt.\n",
    "    \"\"\"\n",
    "    if len(functions) == 0:\n",
    "        return f\"USER: <<question>> {user_query}\\nASSISTANT: \"\n",
    "    functions_string = json.dumps(functions)\n",
    "    return f\"USER: <<question>> {user_query} <<function>> {functions_string}\\nASSISTANT: \""
   ]
  },
  {
   "cell_type": "code",
   "execution_count": null,
   "metadata": {},
   "outputs": [],
   "source": [
    "# Device setup\n",
    "device: str = \"cuda:1\" if torch.cuda.is_available() else \"cpu\"\n",
    "torch_dtype = torch.float16 if torch.cuda.is_available() else torch.float32"
   ]
  },
  {
   "cell_type": "code",
   "execution_count": null,
   "metadata": {},
   "outputs": [],
   "source": [
    "_MODEL_PATH = \"../models/gorilla-openfunctions-v1/\""
   ]
  },
  {
   "cell_type": "code",
   "execution_count": null,
   "metadata": {},
   "outputs": [],
   "source": [
    "tokenizer = AutoTokenizer.from_pretrained(_MODEL_PATH)\n",
    "model = AutoModelForCausalLM.from_pretrained(\n",
    "    _MODEL_PATH,\n",
    "    device_map=device,\n",
    "    torch_dtype=torch_dtype,\n",
    "    low_cpu_mem_usage=True\n",
    ")"
   ]
  },
  {
   "cell_type": "code",
   "execution_count": null,
   "metadata": {},
   "outputs": [],
   "source": [
    "pipe = pipeline(\n",
    "    \"text-generation\",\n",
    "    model=model,\n",
    "    tokenizer=tokenizer,\n",
    "    max_new_tokens=128,\n",
    "    batch_size=16,\n",
    "    torch_dtype=torch_dtype,\n",
    "    # device=device,\n",
    ")"
   ]
  },
  {
   "cell_type": "code",
   "execution_count": 15,
   "metadata": {},
   "outputs": [],
   "source": [
    "query = 'call an ola cab from bhajanpura to nodia sector 62 in twenty two minutes. and then call a cab from uber for the same route in 10 minutes.'\n",
    "functions = [\n",
    "    {\n",
    "        \"name\": \"Call Cab Ride\",\n",
    "        \"api_name\": \"cab.ride\",\n",
    "        \"description\": \"Find suitable ride for customers given the location, type of ride, and the amount of time the customer is willing to wait as parameters.\",\n",
    "        \"parameters\":  [\n",
    "            {\n",
    "                \"name\": \"start_loc\",\n",
    "                \"default\": \"current_location\",\n",
    "                \"description\": \"location of the starting place of the uber ride\"\n",
    "            },\n",
    "            {\n",
    "                \"name\": \"end_loc\",\n",
    "                \"description\": \"location of the ending place of the uber ride\"\n",
    "            },\n",
    "            {\n",
    "                \"name\": \"type\",\n",
    "                \"enum\": [\"normal\", \"plus\", \"premium\"],\n",
    "                \"default\": \"normal\",\n",
    "                \"description\": \"types of uber ride user is ordering\"\n",
    "            },\n",
    "            {\n",
    "                \"name\": \"time\",\n",
    "                \"value\": \"integer\",\n",
    "                \"default\": \"now\",\n",
    "                \"description\": \"the amount of time in minutes the customer is willing to wait\"\n",
    "            },\n",
    "            {\n",
    "                \"name\": \"platform\",\n",
    "                \"default\": \"uber\",\n",
    "                \"enum\": [\"uber\", \"ola\"],\n",
    "                \"description\": \"the platform the user is ordering the ride from\"\n",
    "            }\n",
    "        ]\n",
    "    }\n",
    "]"
   ]
  },
  {
   "cell_type": "code",
   "execution_count": 16,
   "metadata": {},
   "outputs": [
    {
     "data": {
      "text/plain": [
       "'cab.ride(start_loc=\"bhajanpura\", end_loc=\"nodia-sector-62\", type=\"normal\", time=22, platform=\"ola\")'"
      ]
     },
     "execution_count": 16,
     "metadata": {},
     "output_type": "execute_result"
    }
   ],
   "source": [
    "get_gorilla_response(query, functions)"
   ]
  },
  {
   "cell_type": "code",
   "execution_count": 18,
   "metadata": {},
   "outputs": [
    {
     "data": {
      "text/plain": [
       "'devices.battery()'"
      ]
     },
     "execution_count": 18,
     "metadata": {},
     "output_type": "execute_result"
    }
   ],
   "source": [
    "query = 'List all the devices in the house and their battery percentage.'\n",
    "functions = [\n",
    "    {\n",
    "        \"name\": \"Check Battery\",\n",
    "        \"api_name\": \"devices.battery\",\n",
    "        \"description\": \"Check the battery of a device\",\n",
    "        \"parameters\":  [\n",
    "            {\n",
    "                \"name\": \"devices\",\n",
    "                \"description\": \"list of devices to check the battery of\",\n",
    "                \"value\": \"list\",\n",
    "                \"default\": \"all\"\n",
    "            },\n",
    "        ],\n",
    "        \"returns\": \"battery percentage of the device\"\n",
    "    },\n",
    "    {\n",
    "        \"name\": \"Get Devices\",\n",
    "        \"api_name\": \"devices.get\",\n",
    "        \"description\": \"Get the list of devices\",\n",
    "        \"parameters\":  [],\n",
    "        \"returns\": \"list of devices\"\n",
    "    }\n",
    "]\n",
    "\n",
    "get_gorilla_response(query, functions=functions)"
   ]
  },
  {
   "cell_type": "markdown",
   "metadata": {},
   "source": [
    "## Task Planner Prompt (Easy)\n",
    "\n",
    "You work is to plan how to do a task using some functions. You have a assistant which can generate function calls for you according to the prompt and functions you give to him.\n",
    "\n",
    "You are given a task, some functions and their descriptions. Your goal is to plan how you can perform task using those functions. If you think you cannot perform the task using theese functions just say \"Sorry, not enough functions are given\".\n",
    "\n",
    "To call your assistant you need to use the following code:\n",
    "\n",
    "```python\n",
    "function_call_generator(task, functions)\n",
    "```\n",
    "\n",
    "Where task is a string with the task description and functions is a list of dictionaries with functions descriptions.\n",
    "\n",
    "Example:\n",
    "\n",
    "Task: Is any TV on?\n",
    "\n",
    "Functions:\n",
    "```json\n",
    "[\n",
    "  {\n",
    "    \"name\": \"Check TV\",\n",
    "    \"api_name\": \"tv.is_on\",\n",
    "    \"description\": \"Check if the TV is on\",\n",
    "    \"parameters\": [\n",
    "      {\n",
    "        \"name\": \"tv\",\n",
    "        \"description\": \"TV to check\",\n",
    "        \"value\": \"string\",\n",
    "        \"default\": \"living room\"\n",
    "      }\n",
    "    ],\n",
    "    \"returns\": \"True if the TV is on, False otherwise\"\n",
    "  },\n",
    "  {\n",
    "    \"name\": \"Get TVs\",\n",
    "    \"api_name\": \"tv.get\",\n",
    "    \"description\": \"Get the list of TVs\",\n",
    "    \"parameters\": [],\n",
    "    \"returns\": \"list of TVs\"\n",
    "  }\n",
    "]\n",
    "```\n",
    "\n",
    "Response:\n",
    "```python\n",
    "import function_call_generator\n",
    "\n",
    "functions = <<input_functions>>\n",
    "def main():\n",
    "    list_of_turned_on_tvs = []\n",
    "\n",
    "    tvs = function_call_generator(\"List me all the TVs\", functions)\n",
    "    for tv in tvs:\n",
    "        is_tv_on = function_call_generator(f'Check if the TV named {tv} is on', functions)\n",
    "        if is_tv_on:\n",
    "            list_of_turned_on_tvs.append(tv)\n",
    "\n",
    "    return list_of_turned_on_tvs\n",
    "```\n",
    "\n",
    "---\n",
    "\n",
    "Task: Is any of the devices running low on battery?\n",
    "\n",
    "Functions:\n",
    "```json\n",
    "[\n",
    "  {\n",
    "    \"name\": \"Check Battery\",\n",
    "    \"api_name\": \"devices.battery\",\n",
    "    \"description\": \"Check the battery of a device\",\n",
    "    \"parameters\": [\n",
    "      {\n",
    "        \"name\": \"devices\",\n",
    "        \"description\": \"list of devices to check the battery of\",\n",
    "        \"value\": \"list\",\n",
    "        \"default\": \"all\"\n",
    "      }\n",
    "    ],\n",
    "    \"returns\": \"battery percentage of the device\"\n",
    "  },\n",
    "  {\n",
    "    \"name\": \"Get Devices\",\n",
    "    \"api_name\": \"devices.get\",\n",
    "    \"description\": \"Get the list of devices\",\n",
    "    \"parameters\": [],\n",
    "    \"returns\": \"list of devices\"\n",
    "  }\n",
    "]\n",
    "```\n"
   ]
  }
 ],
 "metadata": {
  "kernelspec": {
   "display_name": "Python 3",
   "language": "python",
   "name": "python3"
  },
  "language_info": {
   "codemirror_mode": {
    "name": "ipython",
    "version": 3
   },
   "file_extension": ".py",
   "mimetype": "text/x-python",
   "name": "python",
   "nbconvert_exporter": "python",
   "pygments_lexer": "ipython3",
   "version": "3.10.12"
  }
 },
 "nbformat": 4,
 "nbformat_minor": 2
}
