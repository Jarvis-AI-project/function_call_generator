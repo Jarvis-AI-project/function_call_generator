{
 "cells": [
  {
   "cell_type": "code",
   "execution_count": 46,
   "metadata": {},
   "outputs": [],
   "source": [
    "import openai\n",
    "openai.api_key = \"EMPTY\"\n",
    "openai.api_base = \"http://luigi.millennium.berkeley.edu:8000/v1\"\n",
    "\n",
    "\n",
    "def get_api_call(prompt, functions, model=\"gorilla-openfunctions-v1\"):\n",
    "    try:\n",
    "        completion = openai.ChatCompletion.create(\n",
    "            model=model,\n",
    "            temperature=0.0,\n",
    "            messages=[\n",
    "                {\"role\": \"system\", \"content\": \"You are a Function call generator. Read all the functions and their descriptions and then try to solve the user's query by calling the right function. You can return nested functions as well. Also, you can return a list of functions.\"},\n",
    "                {\"role\": \"user\", \"content\": prompt}\n",
    "            ],\n",
    "            functions=functions,\n",
    "        )\n",
    "        return completion.choices[0].message.content\n",
    "    \n",
    "    except Exception as e:\n",
    "        print(e, model, prompt)"
   ]
  },
  {
   "cell_type": "code",
   "execution_count": 47,
   "metadata": {},
   "outputs": [
    {
     "data": {
      "text/plain": [
       "'[\"cab.ride(start_loc=\\'bhajanpura\\',end_loc=\\'nodia sector 62\\',type=\\'normal\\',time=22,platform=\\'ola\\')\", \"cab.ride(start_loc=\\'bhajanpura\\',end_loc=\\'nodia sector 62\\',type=\\'normal\\',time=10,platform=\\'uber\\')\"]'"
      ]
     },
     "execution_count": 47,
     "metadata": {},
     "output_type": "execute_result"
    }
   ],
   "source": [
    "query = 'call an ola cab from bhajanpura to nodia sector 62 in twenty two minutes. and then call a cab from uber for the same route in 10 minutes.'\n",
    "functions = [\n",
    "    {\n",
    "        \"name\": \"Call Cab Ride\",\n",
    "        \"api_name\": \"cab.ride\",\n",
    "        \"description\": \"Find suitable ride for customers given the location, type of ride, and the amount of time the customer is willing to wait as parameters.\",\n",
    "        \"parameters\":  [\n",
    "            {\n",
    "                \"name\": \"start_loc\",\n",
    "                \"default\": \"current_location\",\n",
    "                \"description\": \"location of the starting place of the uber ride\"\n",
    "            },\n",
    "            {\n",
    "                \"name\": \"end_loc\",\n",
    "                \"description\": \"location of the ending place of the uber ride\"\n",
    "            },\n",
    "            {\n",
    "                \"name\": \"type\",\n",
    "                \"enum\": [\"normal\", \"plus\", \"premium\"],\n",
    "                \"default\": \"normal\",\n",
    "                \"description\": \"types of uber ride user is ordering\"\n",
    "            },\n",
    "            {\n",
    "                \"name\": \"time\",\n",
    "                \"value\": \"integer\",\n",
    "                \"default\": \"now\",\n",
    "                \"description\": \"the amount of time in minutes the customer is willing to wait\"\n",
    "            },\n",
    "            {\n",
    "                \"name\": \"platform\",\n",
    "                \"default\": \"uber\",\n",
    "                \"enum\": [\"uber\", \"ola\"],\n",
    "                \"description\": \"the platform the user is ordering the ride from\"\n",
    "            }\n",
    "        ]\n",
    "    }\n",
    "]\n",
    "get_api_call(query, functions=functions)"
   ]
  },
  {
   "cell_type": "code",
   "execution_count": 49,
   "metadata": {},
   "outputs": [
    {
     "data": {
      "text/plain": [
       "'devices.battery(devices=[\"phone\", \"tablet\", \"laptop\"])'"
      ]
     },
     "execution_count": 49,
     "metadata": {},
     "output_type": "execute_result"
    }
   ],
   "source": [
    "query = 'List all the devices in the house and their battery percentage.'\n",
    "functions = [\n",
    "    {\n",
    "        \"name\": \"Check Battery\",\n",
    "        \"api_name\": \"devices.battery\",\n",
    "        \"description\": \"Check the battery of a device\",\n",
    "        \"parameters\":  [\n",
    "            {\n",
    "                \"name\": \"devices\",\n",
    "                \"description\": \"list of devices to check the battery of\",\n",
    "                \"value\": \"list\",\n",
    "                \"default\": \"all\"\n",
    "            },\n",
    "        ],\n",
    "        \"returns\": \"battery percentage of the device\"\n",
    "    },\n",
    "    {\n",
    "        \"name\": \"Get Devices\",\n",
    "        \"api_name\": \"devices.get\",\n",
    "        \"description\": \"Get the list of devices\",\n",
    "        \"parameters\":  [],\n",
    "        \"returns\": \"list of devices\"\n",
    "    }\n",
    "]\n",
    "\n",
    "get_api_call(query, functions=functions)"
   ]
  },
  {
   "cell_type": "markdown",
   "metadata": {},
   "source": [
    "You work is to plan how to do a task using some functions. You have a assistant which can generate function calls for you according to the prompt and functions you give to him. \n",
    "\n",
    "You are given a task, some functions and their descriptions. Your goal is to plan how you can perform task using those functions. If you think you cannot perform the task using theese functions just say \"Sorry, not enough functions are given\".\n",
    "\n",
    "Task:  Is any of the devices running low on battery?\n",
    "Functions: \n",
    "```json\n",
    "[\n",
    "    {\n",
    "        \"name\": \"Check Battery\",\n",
    "        \"api_name\": \"devices.battery\",\n",
    "        \"description\": \"Check the battery of a device\",\n",
    "        \"parameters\":  [\n",
    "            {\n",
    "                \"name\": \"devices\",\n",
    "                \"description\": \"list of devices to check the battery of\",\n",
    "                \"value\": \"list\",\n",
    "                \"default\": \"all\"\n",
    "            },\n",
    "        ],\n",
    "        \"returns\": \"battery percentage of the device\"\n",
    "    },\n",
    "    {\n",
    "        \"name\": \"Get Devices\",\n",
    "        \"api_name\": \"devices.get\",\n",
    "        \"description\": \"Get the list of devices\",\n",
    "        \"parameters\":  [],\n",
    "        \"returns\": \"list of devices\"\n",
    "    }\n",
    "]\n",
    "```"
   ]
  }
 ],
 "metadata": {
  "kernelspec": {
   "display_name": "Python 3",
   "language": "python",
   "name": "python3"
  },
  "language_info": {
   "codemirror_mode": {
    "name": "ipython",
    "version": 3
   },
   "file_extension": ".py",
   "mimetype": "text/x-python",
   "name": "python",
   "nbconvert_exporter": "python",
   "pygments_lexer": "ipython3",
   "version": "3.10.12"
  }
 },
 "nbformat": 4,
 "nbformat_minor": 2
}
