{
 "cells": [
  {
   "cell_type": "code",
   "execution_count": 6,
   "metadata": {},
   "outputs": [],
   "source": [
    "import gradio as gr\n",
    "import torch\n",
    "from transformers import (\n",
    "    AutoModelForCausalLM,\n",
    "    AutoTokenizer,\n",
    "    StoppingCriteria,\n",
    "    StoppingCriteriaList,\n",
    ")\n",
    "from pathlib import Path\n",
    "import os\n",
    "import re\n",
    "from peft import (\n",
    "    LoraModel,\n",
    "    LoraConfig,\n",
    "    get_peft_model,\n",
    "    PeftModel,\n",
    "    AutoPeftModelForCausalLM,\n",
    "    PeftMixedModel,\n",
    ")"
   ]
  },
  {
   "cell_type": "code",
   "execution_count": 7,
   "metadata": {},
   "outputs": [],
   "source": [
    "# _BASE_MODEL_PATH = Path(\"../../models/Mistral-7B-Instruct-v0.2\")\n",
    "# _LORA_MODEL_PATH = Path(\"../output/loras/checkpoint-540\")\n",
    "_MERGED_MODEL_PATH = Path(\"../output/calculator-lora-merged\")\n",
    "# _ADAPTER_NAME = \"jarvis-calculator-v0_1\""
   ]
  },
  {
   "cell_type": "code",
   "execution_count": 8,
   "metadata": {},
   "outputs": [
    {
     "name": "stderr",
     "output_type": "stream",
     "text": [
      "Special tokens have been added in the vocabulary, make sure the associated word embeddings are fine-tuned or trained.\n"
     ]
    },
    {
     "name": "stderr",
     "output_type": "stream",
     "text": [
      "Special tokens have been added in the vocabulary, make sure the associated word embeddings are fine-tuned or trained.\n"
     ]
    },
    {
     "data": {
      "application/vnd.jupyter.widget-view+json": {
       "model_id": "5d78fbcf909746c79e5b35381b1da8b2",
       "version_major": 2,
       "version_minor": 0
      },
      "text/plain": [
       "Loading checkpoint shards:   0%|          | 0/6 [00:00<?, ?it/s]"
      ]
     },
     "metadata": {},
     "output_type": "display_data"
    }
   ],
   "source": [
    "tokenizer = AutoTokenizer.from_pretrained(_MERGED_MODEL_PATH)\n",
    "# tokenizer = tokenizer.from_pretrained(_LORA_MODEL_PATH)\n",
    "model = AutoModelForCausalLM.from_pretrained(\n",
    "    _MERGED_MODEL_PATH,\n",
    "    low_cpu_mem_usage=True,\n",
    "    device_map=\"cuda:1\",\n",
    "    torch_dtype=torch.bfloat16\n",
    ")"
   ]
  },
  {
   "cell_type": "code",
   "execution_count": null,
   "metadata": {},
   "outputs": [],
   "source": [
    "# _LORA_MODEL_PATH = Path(\"../output/loras/checkpoint-540\")\n",
    "# peft_model = PeftModel.from_pretrained(\n",
    "#     model,\n",
    "#     os.path.join(_LORA_MODEL_PATH, _ADAPTER_NAME),\n",
    "#     is_trainable=False,\n",
    "#     from_transformers=True,\n",
    "#     device_map=\"auto\",\n",
    "# )\n",
    "# peft_model.merge_adapter()"
   ]
  },
  {
   "cell_type": "code",
   "execution_count": null,
   "metadata": {},
   "outputs": [],
   "source": [
    "prompt = \"\"\"<|system|>\n",
    "<|user|>\n",
    "what is the cost of 2 apples and 3 oranges if each apple costs 2 dollars and each orange costs 3 dollars?\n",
    "<|assistant|>\n",
    "\"\"\""
   ]
  },
  {
   "cell_type": "code",
   "execution_count": 9,
   "metadata": {},
   "outputs": [],
   "source": [
    "class CustomStoppingCriteria(StoppingCriteria):\n",
    "    def __init__(self, stops: list = []):\n",
    "        StoppingCriteria.__init__(self)\n",
    "        self.stops = stops\n",
    "\n",
    "    def __call__(self, input_ids: torch.LongTensor, scores: torch.FloatTensor):\n",
    "        for token in self.stops:\n",
    "            if input_ids[0][-1].cpu().numpy() == token:\n",
    "                return True\n",
    "        return False"
   ]
  },
  {
   "cell_type": "code",
   "execution_count": 53,
   "metadata": {},
   "outputs": [],
   "source": [
    "def generate(prompt: str):\n",
    "    prompt = tokenizer(prompt, return_tensors=\"pt\").to(model.device)\n",
    "    output = model.generate(\n",
    "        **prompt,\n",
    "        max_new_tokens=256,\n",
    "        do_sample=False,\n",
    "        pad_token_id=tokenizer.eos_token_id,\n",
    "        eos_token_id=tokenizer.eos_token_id,\n",
    "        stopping_criteria=StoppingCriteriaList([\n",
    "                CustomStoppingCriteria(stops=[tokenizer.encode(\"<stop>\", add_special_tokens=False)[-1]])\n",
    "            ]),\n",
    "    )\n",
    "    output = tokenizer.decode(output[0], skip_special_tokens=False)\n",
    "    last_assistant_resp = output.split(\"<|assistant|>\")[-1].strip()\n",
    "    if last_assistant_resp.endswith('<stop>') and last_assistant_resp.rfind('<calculator>') > last_assistant_resp.rfind('</calculator>'):\n",
    "        expr = last_assistant_resp[last_assistant_resp.rfind('<calculator>') + len('<calculator>'):last_assistant_resp.rfind('<stop>')]\n",
    "        output = f'{output} {eval(expr)} </calculator>'\n",
    "        return generate(output)\n",
    "    return output"
   ]
  },
  {
   "cell_type": "code",
   "execution_count": 47,
   "metadata": {},
   "outputs": [],
   "source": [
    "with gr.Blocks() as iface:\n",
    "    chatbox = gr.Chatbot(render_markdown=False, sanitize_html=False)\n",
    "    msg = gr.Textbox()\n",
    "    clear = gr.ClearButton([chatbox, msg])\n",
    "\n",
    "    def respond(message, chat_history):\n",
    "        if message:\n",
    "            if chat_history == []:\n",
    "                message = '<|system|>\\n<|user|>\\n' + message\n",
    "            else:\n",
    "                message = '\\n<|user|>\\n' + message\n",
    "\n",
    "            prev_prompt = ''.join(chat[0] + chat[1] for chat in chat_history)\n",
    "            bot_message = generate(prev_prompt + message + '\\n<|assistant|>\\n').replace(prev_prompt + message, '')\n",
    "            \n",
    "            chat_history.append((message, bot_message))\n",
    "        print(prev_prompt + message)\n",
    "        return '', chat_history\n",
    "\n",
    "    msg.submit(respond, inputs=[msg, chatbox], outputs=[msg, chatbox])"
   ]
  },
  {
   "cell_type": "code",
   "execution_count": 54,
   "metadata": {},
   "outputs": [
    {
     "name": "stdout",
     "output_type": "stream",
     "text": [
      "Closing server running on port: 7869\n",
      "Running on local URL:  http://127.0.0.1:7869\n",
      "\n",
      "To create a public link, set `share=True` in `launch()`.\n"
     ]
    },
    {
     "name": "stderr",
     "output_type": "stream",
     "text": [
      "huggingface/tokenizers: The current process just got forked, after parallelism has already been used. Disabling parallelism to avoid deadlocks...\n",
      "To disable this warning, you can either:\n",
      "\t- Avoid using `tokenizers` before the fork if possible\n",
      "\t- Explicitly set the environment variable TOKENIZERS_PARALLELISM=(true | false)\n"
     ]
    },
    {
     "data": {
      "text/html": [
       "<div><iframe src=\"http://127.0.0.1:7869/\" width=\"100%\" height=\"500\" allow=\"autoplay; camera; microphone; clipboard-read; clipboard-write;\" frameborder=\"0\" allowfullscreen></iframe></div>"
      ],
      "text/plain": [
       "<IPython.core.display.HTML object>"
      ]
     },
     "metadata": {},
     "output_type": "display_data"
    },
    {
     "data": {
      "text/plain": []
     },
     "execution_count": 54,
     "metadata": {},
     "output_type": "execute_result"
    },
    {
     "name": "stdout",
     "output_type": "stream",
     "text": [
      "<|system|>\n",
      "<|user|>\n",
      "what is the cost of 2 apples and 3 oranges if each apple costs 2 dollars and each orange costs 3 dollars?\n",
      "<|system|>\n",
      "<|user|>\n",
      "i was born on 12th apr and today is 12th mar, how old am i ?\n"
     ]
    }
   ],
   "source": [
    "iface.close()\n",
    "iface.launch(inbrowser=True)"
   ]
  }
 ],
 "metadata": {
  "kernelspec": {
   "display_name": "function_call_generator",
   "language": "python",
   "name": "python3"
  },
  "language_info": {
   "codemirror_mode": {
    "name": "ipython",
    "version": 3
   },
   "file_extension": ".py",
   "mimetype": "text/x-python",
   "name": "python",
   "nbconvert_exporter": "python",
   "pygments_lexer": "ipython3",
   "version": "3.12.0"
  }
 },
 "nbformat": 4,
 "nbformat_minor": 2
}
